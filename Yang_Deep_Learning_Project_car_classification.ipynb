{
  "nbformat": 4,
  "nbformat_minor": 0,
  "metadata": {
    "kernelspec": {
      "name": "python3",
      "display_name": "Python 3"
    },
    "language_info": {
      "codemirror_mode": {
        "name": "ipython",
        "version": 3
      },
      "file_extension": ".py",
      "mimetype": "text/x-python",
      "name": "python",
      "nbconvert_exporter": "python",
      "pygments_lexer": "ipython3",
      "version": "3.7.2"
    },
    "colab": {
      "name": "Yang_Deep Learning Project_car_classification.ipynb",
      "provenance": [],
      "collapsed_sections": [],
      "toc_visible": true,
      "include_colab_link": true
    },
    "accelerator": "GPU",
    "widgets": {
      "application/vnd.jupyter.widget-state+json": {
        "dcaaa08c982c40afa6a568acefb87e79": {
          "model_module": "@jupyter-widgets/controls",
          "model_name": "HBoxModel",
          "state": {
            "_view_name": "HBoxView",
            "_dom_classes": [],
            "_model_name": "HBoxModel",
            "_view_module": "@jupyter-widgets/controls",
            "_model_module_version": "1.5.0",
            "_view_count": null,
            "_view_module_version": "1.5.0",
            "box_style": "",
            "layout": "IPY_MODEL_7790fdf64fa84aa29f949ff1881e9c98",
            "_model_module": "@jupyter-widgets/controls",
            "children": [
              "IPY_MODEL_9da684dd19344493be46e4fb9478dffb",
              "IPY_MODEL_d43d41df013542f485d54def364df87d"
            ]
          }
        },
        "7790fdf64fa84aa29f949ff1881e9c98": {
          "model_module": "@jupyter-widgets/base",
          "model_name": "LayoutModel",
          "state": {
            "_view_name": "LayoutView",
            "grid_template_rows": null,
            "right": null,
            "justify_content": null,
            "_view_module": "@jupyter-widgets/base",
            "overflow": null,
            "_model_module_version": "1.2.0",
            "_view_count": null,
            "flex_flow": null,
            "width": null,
            "min_width": null,
            "border": null,
            "align_items": null,
            "bottom": null,
            "_model_module": "@jupyter-widgets/base",
            "top": null,
            "grid_column": null,
            "overflow_y": null,
            "overflow_x": null,
            "grid_auto_flow": null,
            "grid_area": null,
            "grid_template_columns": null,
            "flex": null,
            "_model_name": "LayoutModel",
            "justify_items": null,
            "grid_row": null,
            "max_height": null,
            "align_content": null,
            "visibility": null,
            "align_self": null,
            "height": null,
            "min_height": null,
            "padding": null,
            "grid_auto_rows": null,
            "grid_gap": null,
            "max_width": null,
            "order": null,
            "_view_module_version": "1.2.0",
            "grid_template_areas": null,
            "object_position": null,
            "object_fit": null,
            "grid_auto_columns": null,
            "margin": null,
            "display": null,
            "left": null
          }
        },
        "9da684dd19344493be46e4fb9478dffb": {
          "model_module": "@jupyter-widgets/controls",
          "model_name": "FloatProgressModel",
          "state": {
            "_view_name": "ProgressView",
            "style": "IPY_MODEL_e068922b9828402da6bf5d1a92b0efd6",
            "_dom_classes": [],
            "description": "100%",
            "_model_name": "FloatProgressModel",
            "bar_style": "success",
            "max": 244408911,
            "_view_module": "@jupyter-widgets/controls",
            "_model_module_version": "1.5.0",
            "value": 244408911,
            "_view_count": null,
            "_view_module_version": "1.5.0",
            "orientation": "horizontal",
            "min": 0,
            "description_tooltip": null,
            "_model_module": "@jupyter-widgets/controls",
            "layout": "IPY_MODEL_a599388509834d3ba0f7fb227c9559d0"
          }
        },
        "d43d41df013542f485d54def364df87d": {
          "model_module": "@jupyter-widgets/controls",
          "model_name": "HTMLModel",
          "state": {
            "_view_name": "HTMLView",
            "style": "IPY_MODEL_a91f3e0a14dd4cbcac1bd7120fdbfa3c",
            "_dom_classes": [],
            "description": "",
            "_model_name": "HTMLModel",
            "placeholder": "​",
            "_view_module": "@jupyter-widgets/controls",
            "_model_module_version": "1.5.0",
            "value": " 233M/233M [19:47&lt;00:00, 206kB/s]",
            "_view_count": null,
            "_view_module_version": "1.5.0",
            "description_tooltip": null,
            "_model_module": "@jupyter-widgets/controls",
            "layout": "IPY_MODEL_0314b270d5d74a60b633530414483492"
          }
        },
        "e068922b9828402da6bf5d1a92b0efd6": {
          "model_module": "@jupyter-widgets/controls",
          "model_name": "ProgressStyleModel",
          "state": {
            "_view_name": "StyleView",
            "_model_name": "ProgressStyleModel",
            "description_width": "initial",
            "_view_module": "@jupyter-widgets/base",
            "_model_module_version": "1.5.0",
            "_view_count": null,
            "_view_module_version": "1.2.0",
            "bar_color": null,
            "_model_module": "@jupyter-widgets/controls"
          }
        },
        "a599388509834d3ba0f7fb227c9559d0": {
          "model_module": "@jupyter-widgets/base",
          "model_name": "LayoutModel",
          "state": {
            "_view_name": "LayoutView",
            "grid_template_rows": null,
            "right": null,
            "justify_content": null,
            "_view_module": "@jupyter-widgets/base",
            "overflow": null,
            "_model_module_version": "1.2.0",
            "_view_count": null,
            "flex_flow": null,
            "width": null,
            "min_width": null,
            "border": null,
            "align_items": null,
            "bottom": null,
            "_model_module": "@jupyter-widgets/base",
            "top": null,
            "grid_column": null,
            "overflow_y": null,
            "overflow_x": null,
            "grid_auto_flow": null,
            "grid_area": null,
            "grid_template_columns": null,
            "flex": null,
            "_model_name": "LayoutModel",
            "justify_items": null,
            "grid_row": null,
            "max_height": null,
            "align_content": null,
            "visibility": null,
            "align_self": null,
            "height": null,
            "min_height": null,
            "padding": null,
            "grid_auto_rows": null,
            "grid_gap": null,
            "max_width": null,
            "order": null,
            "_view_module_version": "1.2.0",
            "grid_template_areas": null,
            "object_position": null,
            "object_fit": null,
            "grid_auto_columns": null,
            "margin": null,
            "display": null,
            "left": null
          }
        },
        "a91f3e0a14dd4cbcac1bd7120fdbfa3c": {
          "model_module": "@jupyter-widgets/controls",
          "model_name": "DescriptionStyleModel",
          "state": {
            "_view_name": "StyleView",
            "_model_name": "DescriptionStyleModel",
            "description_width": "",
            "_view_module": "@jupyter-widgets/base",
            "_model_module_version": "1.5.0",
            "_view_count": null,
            "_view_module_version": "1.2.0",
            "_model_module": "@jupyter-widgets/controls"
          }
        },
        "0314b270d5d74a60b633530414483492": {
          "model_module": "@jupyter-widgets/base",
          "model_name": "LayoutModel",
          "state": {
            "_view_name": "LayoutView",
            "grid_template_rows": null,
            "right": null,
            "justify_content": null,
            "_view_module": "@jupyter-widgets/base",
            "overflow": null,
            "_model_module_version": "1.2.0",
            "_view_count": null,
            "flex_flow": null,
            "width": null,
            "min_width": null,
            "border": null,
            "align_items": null,
            "bottom": null,
            "_model_module": "@jupyter-widgets/base",
            "top": null,
            "grid_column": null,
            "overflow_y": null,
            "overflow_x": null,
            "grid_auto_flow": null,
            "grid_area": null,
            "grid_template_columns": null,
            "flex": null,
            "_model_name": "LayoutModel",
            "justify_items": null,
            "grid_row": null,
            "max_height": null,
            "align_content": null,
            "visibility": null,
            "align_self": null,
            "height": null,
            "min_height": null,
            "padding": null,
            "grid_auto_rows": null,
            "grid_gap": null,
            "max_width": null,
            "order": null,
            "_view_module_version": "1.2.0",
            "grid_template_areas": null,
            "object_position": null,
            "object_fit": null,
            "grid_auto_columns": null,
            "margin": null,
            "display": null,
            "left": null
          }
        }
      }
    }
  },
  "cells": [
    {
      "cell_type": "markdown",
      "metadata": {
        "id": "view-in-github",
        "colab_type": "text"
      },
      "source": [
        "<a href=\"https://colab.research.google.com/github/fjxmlinyang/CNN_Project_car_classification/blob/main/Yang_Deep_Learning_Project_car_classification.ipynb\" target=\"_parent\"><img src=\"https://colab.research.google.com/assets/colab-badge.svg\" alt=\"Open In Colab\"/></a>"
      ]
    },
    {
      "cell_type": "markdown",
      "metadata": {
        "id": "c2CtXfyW9lD_"
      },
      "source": [
        "# Deep Learning Project(CNN)- Car classification\n"
      ]
    },
    {
      "cell_type": "markdown",
      "metadata": {
        "id": "0kahqOOp9rjx"
      },
      "source": [
        "# 1 Introduction\n",
        "\n",
        "The followings are some info for this project:\n",
        "1. This project is for car classification for [stanford car dataset](https://ai.stanford.edu/~jkrause/cars/car_dataset.html). We focus on study deep learning model of Convolutional Neural Networks(CNN) in this project.\n",
        "2. The Cars dataset contains 16,185 images of 196 classes of cars. The data is split into 8,144 training images and 8,041 testing images, where each class has been split roughly in a 50-50 split. Classes are typically at the level of Make, Model, Year, e.g. 2012 Tesla Model S or 2012 BMW M3 coupe.\n",
        "3. Since it is difficult to directly train deep learning model on this dataset with the limited number of images. We will using a pre-trained model with transfer learning to train the model. All layers will be fine tuned and the last fully connected layer will be replaced entirely. \n",
        "4. A common approch used in deep learning to utilize the pretrained model is on [imagenet](http://www.image-net.org/) and fine-tune on our own dataset, i.e. car dataset. \n",
        "5. This project can show how to train and fine-tune a deep learning model using pytorch.\n",
        "\n",
        "![](https://ai.stanford.edu/~jkrause/cars/class_montage.jpg)\n"
      ]
    },
    {
      "cell_type": "markdown",
      "metadata": {
        "id": "WQpXkBSm90JH"
      },
      "source": [
        "## 1.1 Transfer Learning\n",
        "Transfer learning is one of the most widely used technologies in deep learning and computer vision. If you are not familar with the concept of transfer learning, please refer to our course materials.\n",
        "\n",
        "![](https://cdn-images-1.medium.com/max/2000/1*9GTEzcO8KxxrfutmtsPs3Q.png)"
      ]
    },
    {
      "cell_type": "markdown",
      "metadata": {
        "id": "J7SmzE06ZXhR"
      },
      "source": [
        "# 2 Data Loading/Ingestion\n",
        "Ingestion includes: collection/storage\n",
        "\n",
        "1. Here we will load and extract our dataset files\n",
        "2. We are using the Stanford car dataset, which contains 196 classes.\n",
        "3. Dataset (196 classes):\n",
        "\n",
        "Train folder: 8144 images, avg: 41.5 images per class.\n",
        "\n",
        "Test folder: 8041 images, avg: 41.0 images per class.\n",
        "\n"
      ]
    },
    {
      "cell_type": "markdown",
      "metadata": {
        "id": "_a37d63MA6fq"
      },
      "source": [
        "## 2.1 mount google drive to colab"
      ]
    },
    {
      "cell_type": "code",
      "metadata": {
        "id": "GderMAYBHHJg",
        "colab": {
          "base_uri": "https://localhost:8080/"
        },
        "outputId": "36945783-230a-424a-b16a-cedb502634d5"
      },
      "source": [
        "# install pydrive to load data\n",
        "from google.colab import drive\n",
        "drive.mount('/content/drive')"
      ],
      "execution_count": 2,
      "outputs": [
        {
          "output_type": "stream",
          "text": [
            "Mounted at /content/drive\n"
          ],
          "name": "stdout"
        }
      ]
    },
    {
      "cell_type": "markdown",
      "metadata": {
        "id": "f9RvZKqrBBzb"
      },
      "source": [
        "## 2.2 Copy file from google drive to colab"
      ]
    },
    {
      "cell_type": "code",
      "metadata": {
        "id": "Zyu4Az5fxxXg"
      },
      "source": [
        "# copy dataset from google drive to colab. https://drive.google.com/open?id=1qcSFJ_2Ouom95QYDI3n498JEnqQd71vx\n",
        "#!cp ./drive/My\\ Drive/stanford_car_dataset.zip ./\n",
        "#!cp ./content/drive/My\\ Drive/Colab\\ Notebooks/DeepLearningCNNCarProject/stanford_car_dataset.zip ./\n",
        "#/content/drive/MyDrive/Colab Notebooks/DeepLearningCNNCarProject/stanford_car_dataset.zip"
      ],
      "execution_count": 3,
      "outputs": []
    },
    {
      "cell_type": "code",
      "metadata": {
        "id": "D015mQn_ukz4"
      },
      "source": [
        ""
      ],
      "execution_count": null,
      "outputs": []
    },
    {
      "cell_type": "markdown",
      "metadata": {
        "id": "od6_9e1GBPQ7"
      },
      "source": [
        "## 2.3 Extract dataset files"
      ]
    },
    {
      "cell_type": "code",
      "metadata": {
        "id": "_3gTCY271nIS",
        "colab": {
          "base_uri": "https://localhost:8080/"
        },
        "outputId": "dd499822-7a0c-4521-d40a-a1ad4f8377f0"
      },
      "source": [
        "%%time\n",
        "\n",
        "!mkdir ./stanford_car_dataset\n",
        "!unzip -q \"/content/drive/My Drive/Colab Notebooks/DeepLearningCNNCarProject/stanford_car_dataset.zip\" -d ./stanford_car_dataset\n",
        "\n"
      ],
      "execution_count": 4,
      "outputs": [
        {
          "output_type": "stream",
          "text": [
            "CPU times: user 341 ms, sys: 78.3 ms, total: 419 ms\n",
            "Wall time: 1min 11s\n"
          ],
          "name": "stdout"
        }
      ]
    },
    {
      "cell_type": "markdown",
      "metadata": {
        "id": "7YTAcNFKBTSm"
      },
      "source": [
        "# 3 Data Exploration /Preparation\n",
        "Preparation includes: Data validation/clean/transformation/segregation"
      ]
    },
    {
      "cell_type": "markdown",
      "metadata": {
        "id": "80Fx_Cv-Bbbk"
      },
      "source": [
        "## 3.1 Load packages\n",
        "\n",
        "The pytorch have been pre-installled on colab, and we do not need re-install these packages."
      ]
    },
    {
      "cell_type": "code",
      "metadata": {
        "trusted": true,
        "id": "Wmld6dLSZXhU",
        "colab": {
          "base_uri": "https://localhost:8080/"
        },
        "outputId": "9314df45-2730-438c-ed26-e2664750cdda"
      },
      "source": [
        "import matplotlib.pyplot as plt\n",
        "import numpy as np\n",
        "\n",
        "import torch\n",
        "import torch.nn as nn\n",
        "import torch.optim as optim\n",
        "import torchvision\n",
        "import torchvision.models as models\n",
        "import torchvision.transforms as transforms #图像预处理包\n",
        "\n",
        "import time\n",
        "import os\n",
        "import tqdm\n",
        "import PIL.Image as Image\n",
        "from IPython.display import display\n",
        "\n",
        "device = torch.device(\"cuda:0\" if torch.cuda.is_available() else \"cpu\")\n",
        "print(device)\n",
        "print(torch.cuda.get_device_name(device))"
      ],
      "execution_count": 5,
      "outputs": [
        {
          "output_type": "stream",
          "text": [
            "cuda:0\n",
            "Tesla T4\n"
          ],
          "name": "stdout"
        }
      ]
    },
    {
      "cell_type": "markdown",
      "metadata": {
        "id": "SEGLzCXMZXhb"
      },
      "source": [
        "## 3.2 Load the data and transform\n",
        "\n",
        "First, lets create some transforms for our data and load the train/test data+labels from the folders.\n",
        "\n",
        "Here we are using 224x224 images (you can also change the resolution) with random horizontal flip, random rotation and normalization"
      ]
    },
    {
      "cell_type": "code",
      "metadata": {
        "trusted": true,
        "id": "qBN8afm4ZXhc"
      },
      "source": [
        "dataset_dir = \"stanford_car_dataset/car_data/car_data/\""
      ],
      "execution_count": 6,
      "outputs": []
    },
    {
      "cell_type": "code",
      "metadata": {
        "id": "OaIyrQTPY097"
      },
      "source": [
        "# data transformation, you can try different transformation/ data augmentation here\n",
        "# note: no data augmentation for test data\n",
        "# [0.485, 0.456, 0.406] is the normalized mean value of ImageNet, and [0.229, 0.224, 0.225] denotes the std of ImageNet.\n",
        "width, height = 224, 224\n",
        "train_tfms = transforms.Compose([transforms.Resize((width, height)),\n",
        "                                 # transforms.RandomHorizontalFlip(),\n",
        "                                 # transforms.RandomRotation(15),\n",
        "                                 transforms.ToTensor(),\n",
        "                                 transforms.Normalize([0.485,0.456,0.406],[0.229,0.224,0.225])])\n",
        "test_tfms = transforms.Compose([transforms.Resize((width, height)),\n",
        "                                 # transforms.RandomHorizontalFlip(),\n",
        "                                 # transforms.RandomRotation(15),\n",
        "                                 transforms.ToTensor(),\n",
        "                                 transforms.Normalize([0.485,0.456,0.406],[0.229,0.224,0.225])])"
      ],
      "execution_count": 7,
      "outputs": []
    },
    {
      "cell_type": "code",
      "metadata": {
        "id": "cdlSzdqqYwZZ"
      },
      "source": [
        "# create datasets\n",
        "# https://zhuanlan.zhihu.com/p/184911006\n",
        "# The batch size defines the number of samples that will be propagated through the network.\n",
        "# num_workers (int, optional) – 用多少个子进程加载数据\n",
        "\n",
        "\n",
        "\n",
        "dataset_train = torchvision.datasets.ImageFolder(root=dataset_dir+'train', transform=train_tfms)\n",
        "trainloader = torch.utils.data.DataLoader(dataset_train, batch_size=32, shuffle=True, num_workers=2)\n",
        "\n",
        "dataset_test = torchvision.datasets.ImageFolder(root=dataset_dir+'test', transform=test_tfms)\n",
        "testloader = torch.utils.data.DataLoader(dataset_test, batch_size=32, shuffle=False, num_workers=2)\n"
      ],
      "execution_count": 8,
      "outputs": []
    },
    {
      "cell_type": "markdown",
      "metadata": {
        "id": "XLO9RrULZXhf"
      },
      "source": [
        "# 4 Model Training and Evaluation\n"
      ]
    },
    {
      "cell_type": "markdown",
      "metadata": {
        "id": "c2ibL18kTqGS"
      },
      "source": [
        "## 4.1 Model Preparation"
      ]
    },
    {
      "cell_type": "markdown",
      "metadata": {
        "id": "lrUQHYopS0CS"
      },
      "source": [
        "\n",
        "### 4.1.1 Model training function\n",
        "\n",
        "Here we train our model, after each epoch, we test the model on the test data to see how it's going\n",
        "\n"
      ]
    },
    {
      "cell_type": "code",
      "metadata": {
        "trusted": true,
        "id": "430hhzprZXhf"
      },
      "source": [
        "# Visualizing the model predictions\n",
        "\n",
        "def train_model(model, criterion, optimizer, scheduler, n_epochs=5):\n",
        "    \n",
        "    # 训练模型一共需要num_epochs个迭代周期\n",
        "    losses = []\n",
        "    accuracies = []\n",
        "    test_accuracies = []  \n",
        "\n",
        "    # set the model to train mode initially\n",
        "    model.train()\n",
        "    #tqdm显示进度\n",
        "    for epoch in tqdm.tqdm(range(n_epochs)):\n",
        "        since = time.time()\n",
        "        running_loss = 0.0\n",
        "        running_correct = 0.0\n",
        "        for i, data in enumerate(trainloader, 0):\n",
        "\n",
        "            # get the inputs and assign them to cuda\n",
        "            inputs, labels = data\n",
        "            # inpuots = inputs.to(device).half() # uncomment for half precision model\n",
        "            inputs = inputs.to(device)\n",
        "            labels = labels.to(device)\n",
        "            optimizer.zero_grad()\n",
        "\n",
        "\n",
        "            # forward + backward + optimize\n",
        "            outputs = model(inputs)\n",
        "            _, predicted = torch.max(outputs.data, 1)\n",
        "            loss = criterion(outputs, labels)\n",
        "            loss.backward()\n",
        "            optimizer.step()\n",
        "\n",
        "            # calculate the loss/acc later\n",
        "            running_loss += loss.item()\n",
        "            running_correct += (labels==predicted).sum().item()\n",
        "\n",
        "\n",
        "        epoch_duration = time.time() - since\n",
        "        epoch_loss = running_loss / len(trainloader)\n",
        "        epoch_acc = 100 / 32 * running_correct / len(trainloader)\n",
        "        print(\"Epoch %s, duration: %d s, loss: %.4f, acc: %.4f\" % (epoch+1, epoch_duration, epoch_loss, epoch_acc))\n",
        "\n",
        "        losses.append(epoch_loss)\n",
        "        accuracies.append(epoch_acc)\n",
        "\n",
        "        #switch the model to eval mode to evaluate on test data\n",
        "        model.eval()\n",
        "        test_acc = eval_model(model)\n",
        "        test_accuracies.append(test_acc)\n",
        "\n",
        "        #re-set the model to train mode after validating\n",
        "        model.train()\n",
        "        scheduler.step(test_acc)\n",
        "        since = time.time()\n",
        "    print('Finished Training')\n",
        "    return model, losses, accuracies, test_accuracies\n"
      ],
      "execution_count": 9,
      "outputs": []
    },
    {
      "cell_type": "markdown",
      "metadata": {
        "id": "SApHdqV-ZXhi"
      },
      "source": [
        "### 4.1.2 Evaluate function on training data\n",
        "This function is called out after each epoch of training on the training data. We then measure the accuracy of the model."
      ]
    },
    {
      "cell_type": "code",
      "metadata": {
        "trusted": true,
        "id": "m7HcAWnVZXhj"
      },
      "source": [
        "def eval_model(model):\n",
        "    correct = 0.0\n",
        "    total = 0.0\n",
        "    with torch.no_grad():\n",
        "\n",
        "        for i, data in enumerate(testloader, 0):\n",
        "          \n",
        "            images, labels = data # 前面是input/labels, 这里被换成images, labels\n",
        "            # images = images.to(device).half() #uncomment for half precision model\n",
        "            images = images.to(device)\n",
        "            labels = labels.to(device)\n",
        "\n",
        "            outputs = model_ft(images)\n",
        "            _, predicted = torch.max(outputs.data, 1)\n",
        "\n",
        "\n",
        "            total += labels.size(0)\n",
        "            correct += (predicted == labels).sum().item()\n",
        "\n",
        "\n",
        "\n",
        "        test_acc = 100.0 * correct / total\n",
        "        print('Accuracy of the network on the test images: %d %%' % (test_acc))\n",
        "        return test_acc\n",
        "\n",
        "# Accuracy (ACC) "
      ],
      "execution_count": 10,
      "outputs": []
    },
    {
      "cell_type": "markdown",
      "metadata": {
        "id": "Wly0BhFZJeHK"
      },
      "source": [
        "## 4.3 Model training"
      ]
    },
    {
      "cell_type": "markdown",
      "metadata": {
        "id": "4nCX_X4UT4tl"
      },
      "source": [
        "### 4.3.1 Define parameters"
      ]
    },
    {
      "cell_type": "code",
      "metadata": {
        "colab": {
          "base_uri": "https://localhost:8080/",
          "height": 103,
          "referenced_widgets": [
            "dcaaa08c982c40afa6a568acefb87e79",
            "7790fdf64fa84aa29f949ff1881e9c98",
            "9da684dd19344493be46e4fb9478dffb",
            "d43d41df013542f485d54def364df87d",
            "e068922b9828402da6bf5d1a92b0efd6",
            "a599388509834d3ba0f7fb227c9559d0",
            "a91f3e0a14dd4cbcac1bd7120fdbfa3c",
            "0314b270d5d74a60b633530414483492"
          ]
        },
        "id": "9i9KNkUTAUHM",
        "outputId": "942d6890-423e-44b2-866d-1e103ad6ab53"
      },
      "source": [
        "\n",
        "NUM_CAR_CLASSES = 196\n",
        "\n",
        "# here directly using alexnet &resnet34\n",
        "model_ft = models.alexnet(pretrained=True)\n",
        "#model_ft = models.resnet34(pretrained=True)\n",
        "\n",
        "# Freezing model parameters and defining the fully coneected network to be attached to the model\n",
        "# Loss function and the optimizer.\n",
        "# We there after put the model on the GPUs\n",
        "# for param in model_ft.parameters():\n",
        "#     param.require_grad = False\n",
        "\n",
        "# replace the last fc layer with an untrained one (requires grad by default)\n",
        "\n",
        "# for alexnet\n",
        "num_ftrs = model_ft.classifier[6].in_features\n",
        "model_ft.classifier[6] = nn.Linear(num_ftrs, NUM_CAR_CLASSES)\n",
        "\n",
        "# for resnet34\n",
        "# num_ftrs = model_ft.fc.in_features\n",
        "# model_ft.classifier[6] = nn.Linear(num_ftrs, NUM_CAR_CLASSES)\n",
        "\n",
        "model_ft = model_ft.to(device)\n",
        "\n",
        "# uncomment this block for half precision model\n",
        "\"\"\"\n",
        "model_ft = model_ft.half()\n",
        "\n",
        "for layer in model_ft.modules():\n",
        "    if isinstacne(layer, nn.BatchNorm2d):\n",
        "        layer.float()\n",
        "\"\"\"\n",
        "\n",
        "criterion = nn.CrossEntropyLoss()\n",
        "optimizer = optim.SGD(model_ft.parameters(), lr=0.01, momentum=0.9)\n",
        "\n",
        "\n",
        "\"\"\"\n",
        "probability not the best metric to track, but we are tracking \n",
        "the training accuracy and measuring whether it increases by at least 0.9 per epoch\n",
        "and if it has not increased by 0.9 reduce the lr by 0.1x.\n",
        "However, in this model it did not befefit me.\n",
        "\"\"\"\n",
        "\n",
        "lrscheduler = optim.lr_scheduler.ReduceLROnPlateau(optimizer, mode='max', patience=3, threshold = 0.9)"
      ],
      "execution_count": 11,
      "outputs": [
        {
          "output_type": "stream",
          "text": [
            "Downloading: \"https://download.pytorch.org/models/alexnet-owt-7be5be79.pth\" to /root/.cache/torch/hub/checkpoints/alexnet-owt-7be5be79.pth\n"
          ],
          "name": "stderr"
        },
        {
          "output_type": "display_data",
          "data": {
            "application/vnd.jupyter.widget-view+json": {
              "model_id": "dcaaa08c982c40afa6a568acefb87e79",
              "version_minor": 0,
              "version_major": 2
            },
            "text/plain": [
              "HBox(children=(FloatProgress(value=0.0, max=244408911.0), HTML(value='')))"
            ]
          },
          "metadata": {
            "tags": []
          }
        },
        {
          "output_type": "stream",
          "text": [
            "\n"
          ],
          "name": "stdout"
        }
      ]
    },
    {
      "cell_type": "markdown",
      "metadata": {
        "id": "y22f6wzZJiWT"
      },
      "source": [
        "### 4.3.2 Model training"
      ]
    },
    {
      "cell_type": "code",
      "metadata": {
        "trusted": true,
        "id": "vFaSvRlqZXhr",
        "colab": {
          "base_uri": "https://localhost:8080/"
        },
        "outputId": "2bd25909-da80-4e6b-8512-e829fc0f5aba"
      },
      "source": [
        "model_ft, training_losses, training_accs, test_accs = train_model(model_ft, criterion, optimizer, lrscheduler, n_epochs=20)"
      ],
      "execution_count": 12,
      "outputs": [
        {
          "output_type": "stream",
          "text": [
            "\r  0%|          | 0/20 [00:00<?, ?it/s]/usr/local/lib/python3.7/dist-packages/torch/nn/functional.py:718: UserWarning: Named tensors and all their associated APIs are an experimental feature and subject to change. Please do not use them for anything important until they are released as stable. (Triggered internally at  /pytorch/c10/core/TensorImpl.h:1156.)\n",
            "  return torch.max_pool2d(input, kernel_size, stride, padding, dilation, ceil_mode)\n"
          ],
          "name": "stderr"
        },
        {
          "output_type": "stream",
          "text": [
            "Epoch 1, duration: 73 s, loss: 5.2596, acc: 0.8456\n"
          ],
          "name": "stdout"
        },
        {
          "output_type": "stream",
          "text": [
            "\r  5%|▌         | 1/20 [02:25<45:55, 145.04s/it]"
          ],
          "name": "stderr"
        },
        {
          "output_type": "stream",
          "text": [
            "Accuracy of the network on the test images: 0 %\n",
            "Epoch 2, duration: 73 s, loss: 5.0382, acc: 2.9412\n"
          ],
          "name": "stdout"
        },
        {
          "output_type": "stream",
          "text": [
            "\r 10%|█         | 2/20 [04:49<43:25, 144.76s/it]"
          ],
          "name": "stderr"
        },
        {
          "output_type": "stream",
          "text": [
            "Accuracy of the network on the test images: 5 %\n",
            "Epoch 3, duration: 73 s, loss: 4.3990, acc: 8.1985\n"
          ],
          "name": "stdout"
        },
        {
          "output_type": "stream",
          "text": [
            "\r 15%|█▌        | 3/20 [07:13<40:59, 144.70s/it]"
          ],
          "name": "stderr"
        },
        {
          "output_type": "stream",
          "text": [
            "Accuracy of the network on the test images: 10 %\n",
            "Epoch 4, duration: 73 s, loss: 3.8133, acc: 14.5711\n"
          ],
          "name": "stdout"
        },
        {
          "output_type": "stream",
          "text": [
            "\r 20%|██        | 4/20 [09:38<38:33, 144.62s/it]"
          ],
          "name": "stderr"
        },
        {
          "output_type": "stream",
          "text": [
            "Accuracy of the network on the test images: 13 %\n",
            "Epoch 5, duration: 73 s, loss: 3.3651, acc: 21.9853\n"
          ],
          "name": "stdout"
        },
        {
          "output_type": "stream",
          "text": [
            "\r 25%|██▌       | 5/20 [12:02<36:08, 144.59s/it]"
          ],
          "name": "stderr"
        },
        {
          "output_type": "stream",
          "text": [
            "Accuracy of the network on the test images: 16 %\n",
            "Epoch 6, duration: 73 s, loss: 2.9988, acc: 27.8922\n"
          ],
          "name": "stdout"
        },
        {
          "output_type": "stream",
          "text": [
            "\r 30%|███       | 6/20 [14:28<33:47, 144.85s/it]"
          ],
          "name": "stderr"
        },
        {
          "output_type": "stream",
          "text": [
            "Accuracy of the network on the test images: 19 %\n",
            "Epoch 7, duration: 74 s, loss: 2.7298, acc: 32.6225\n"
          ],
          "name": "stdout"
        },
        {
          "output_type": "stream",
          "text": [
            "\r 35%|███▌      | 7/20 [16:53<31:23, 144.89s/it]"
          ],
          "name": "stderr"
        },
        {
          "output_type": "stream",
          "text": [
            "Accuracy of the network on the test images: 20 %\n",
            "Epoch 8, duration: 73 s, loss: 2.4225, acc: 39.8162\n"
          ],
          "name": "stdout"
        },
        {
          "output_type": "stream",
          "text": [
            "\r 40%|████      | 8/20 [19:17<28:57, 144.80s/it]"
          ],
          "name": "stderr"
        },
        {
          "output_type": "stream",
          "text": [
            "Accuracy of the network on the test images: 21 %\n",
            "Epoch 9, duration: 73 s, loss: 1.1188, acc: 68.5049\n"
          ],
          "name": "stdout"
        },
        {
          "output_type": "stream",
          "text": [
            "\r 45%|████▌     | 9/20 [21:41<26:28, 144.38s/it]"
          ],
          "name": "stderr"
        },
        {
          "output_type": "stream",
          "text": [
            "Accuracy of the network on the test images: 34 %\n",
            "Epoch 10, duration: 73 s, loss: 0.6329, acc: 81.2623\n"
          ],
          "name": "stdout"
        },
        {
          "output_type": "stream",
          "text": [
            "\r 50%|█████     | 10/20 [24:05<24:03, 144.30s/it]"
          ],
          "name": "stderr"
        },
        {
          "output_type": "stream",
          "text": [
            "Accuracy of the network on the test images: 36 %\n",
            "Epoch 11, duration: 73 s, loss: 0.4174, acc: 87.1078\n"
          ],
          "name": "stdout"
        },
        {
          "output_type": "stream",
          "text": [
            "\r 55%|█████▌    | 11/20 [26:28<21:37, 144.14s/it]"
          ],
          "name": "stderr"
        },
        {
          "output_type": "stream",
          "text": [
            "Accuracy of the network on the test images: 36 %\n",
            "Epoch 12, duration: 74 s, loss: 0.3018, acc: 90.1593\n"
          ],
          "name": "stdout"
        },
        {
          "output_type": "stream",
          "text": [
            "\r 60%|██████    | 12/20 [28:54<19:16, 144.51s/it]"
          ],
          "name": "stderr"
        },
        {
          "output_type": "stream",
          "text": [
            "Accuracy of the network on the test images: 38 %\n",
            "Epoch 13, duration: 73 s, loss: 0.2206, acc: 92.8431\n"
          ],
          "name": "stdout"
        },
        {
          "output_type": "stream",
          "text": [
            "\r 65%|██████▌   | 13/20 [31:19<16:52, 144.59s/it]"
          ],
          "name": "stderr"
        },
        {
          "output_type": "stream",
          "text": [
            "Accuracy of the network on the test images: 38 %\n",
            "Epoch 14, duration: 73 s, loss: 0.1641, acc: 94.8407\n"
          ],
          "name": "stdout"
        },
        {
          "output_type": "stream",
          "text": [
            "\r 70%|███████   | 14/20 [33:42<14:25, 144.30s/it]"
          ],
          "name": "stderr"
        },
        {
          "output_type": "stream",
          "text": [
            "Accuracy of the network on the test images: 39 %\n",
            "Epoch 15, duration: 73 s, loss: 0.1430, acc: 95.4657\n"
          ],
          "name": "stdout"
        },
        {
          "output_type": "stream",
          "text": [
            "\r 75%|███████▌  | 15/20 [36:06<12:01, 144.24s/it]"
          ],
          "name": "stderr"
        },
        {
          "output_type": "stream",
          "text": [
            "Accuracy of the network on the test images: 39 %\n",
            "Epoch 16, duration: 73 s, loss: 0.1305, acc: 96.0294\n"
          ],
          "name": "stdout"
        },
        {
          "output_type": "stream",
          "text": [
            "\r 80%|████████  | 16/20 [38:30<09:36, 144.18s/it]"
          ],
          "name": "stderr"
        },
        {
          "output_type": "stream",
          "text": [
            "Accuracy of the network on the test images: 39 %\n",
            "Epoch 17, duration: 73 s, loss: 0.1347, acc: 95.8456\n"
          ],
          "name": "stdout"
        },
        {
          "output_type": "stream",
          "text": [
            "\r 85%|████████▌ | 17/20 [40:55<07:12, 144.25s/it]"
          ],
          "name": "stderr"
        },
        {
          "output_type": "stream",
          "text": [
            "Accuracy of the network on the test images: 39 %\n",
            "Epoch 18, duration: 73 s, loss: 0.1260, acc: 96.0539\n"
          ],
          "name": "stdout"
        },
        {
          "output_type": "stream",
          "text": [
            "\r 90%|█████████ | 18/20 [43:18<04:48, 144.08s/it]"
          ],
          "name": "stderr"
        },
        {
          "output_type": "stream",
          "text": [
            "Accuracy of the network on the test images: 39 %\n",
            "Epoch 19, duration: 73 s, loss: 0.1179, acc: 96.4583\n"
          ],
          "name": "stdout"
        },
        {
          "output_type": "stream",
          "text": [
            "\r 95%|█████████▌| 19/20 [45:42<02:23, 143.93s/it]"
          ],
          "name": "stderr"
        },
        {
          "output_type": "stream",
          "text": [
            "Accuracy of the network on the test images: 39 %\n",
            "Epoch 20, duration: 73 s, loss: 0.1229, acc: 96.2500\n"
          ],
          "name": "stdout"
        },
        {
          "output_type": "stream",
          "text": [
            "100%|██████████| 20/20 [48:07<00:00, 144.36s/it]"
          ],
          "name": "stderr"
        },
        {
          "output_type": "stream",
          "text": [
            "Accuracy of the network on the test images: 39 %\n",
            "Finished Training\n"
          ],
          "name": "stdout"
        },
        {
          "output_type": "stream",
          "text": [
            "\n"
          ],
          "name": "stderr"
        }
      ]
    },
    {
      "cell_type": "markdown",
      "metadata": {
        "id": "rr7qkcBbZXhu"
      },
      "source": [
        "### 4.3.3 As we can see the model reached 90% training accuracy by epoch 10.\n"
      ]
    },
    {
      "cell_type": "code",
      "metadata": {
        "colab": {
          "base_uri": "https://localhost:8080/",
          "height": 516
        },
        "id": "foZ058qHMfaX",
        "outputId": "fa6954d1-2b7b-466c-99da-cbfc35a3fcd2"
      },
      "source": [
        "# plot the stats\n",
        "\n",
        "f,axarr = plt.subplots(2,2, figsize = (12, 8))\n",
        "axarr[0, 0].plot(training_losses)\n",
        "axarr[0, 0].set_title('Training loss')\n",
        "axarr[0, 1].plot(training_accs)\n",
        "axarr[0, 1].set_title('Training acc')\n",
        "axarr[1, 0].plot(test_accs)\n",
        "axarr[1,0].set_title('Test acc')"
      ],
      "execution_count": 17,
      "outputs": [
        {
          "output_type": "execute_result",
          "data": {
            "text/plain": [
              "Text(0.5, 1.0, 'Test acc')"
            ]
          },
          "metadata": {
            "tags": []
          },
          "execution_count": 17
        },
        {
          "output_type": "display_data",
          "data": {
            "image/png": "[encoded data removed]",
            "text/plain": [
              "<Figure size 864x576 with 4 Axes>"
            ]
          },
          "metadata": {
            "tags": [],
            "needs_background": "light"
          }
        }
      ]
    },
    {
      "cell_type": "markdown",
      "metadata": {
        "id": "JxW-YfstZXhy"
      },
      "source": [
        "## 4.4 Evaluate the model on single images (e.g for production)\n",
        "\n",
        "Next we can use the model on our own images. For that we need to tie the class numbers for which the model returns probablities with the names of those classes.\n"
      ]
    },
    {
      "cell_type": "code",
      "metadata": {
        "trusted": true,
        "id": "CiskimFLZXhz"
      },
      "source": [
        "# tie the class indices to their names\n",
        "\n",
        "def find_classes(dir):\n",
        "    classes = os.listdir(dir)\n",
        "    classes.sort()\n",
        "    class_to_idx = {classes[i]: i for i in range(len(classes))}\n",
        "    return classes, class_to_idx\n",
        "\n",
        "classes, c_to_idx = find_classes(dataset_dir + 'train')"
      ],
      "execution_count": 18,
      "outputs": []
    },
    {
      "cell_type": "code",
      "metadata": {
        "trusted": true,
        "id": "flkEoZY3ZXh6"
      },
      "source": [
        "# test the model on random images\n",
        "\n",
        "# switch the model to evaluation mode to make dropout and batch norm work in eval mode\n",
        "\n",
        "model_ft.eval()\n",
        "\n",
        "# transforms for the input image\n",
        "\n",
        "loader = transforms.Compose([transforms.Resize((400, 400)), transforms.ToTensor(), \n",
        "                             transforms.Normalize((0.5, 0.5, 0.5),(0.5, 0.5, 0.5))])\n",
        "\n",
        "image = Image.open(dataset_dir + \"test/Mercedes-Benz C-Class Sedan 2012/01977.jpg\")\n",
        "image = loader(image).float()\n",
        "image = torch.autograd.Variable(image, requires_grad=True)\n",
        "image = image.unsqueeze(0)\n",
        "image = image.cuda()\n",
        "output = model_ft(image)\n",
        "conf, predicted = torch.max(output.data, 1)"
      ],
      "execution_count": 22,
      "outputs": []
    },
    {
      "cell_type": "code",
      "metadata": {
        "trusted": true,
        "id": "4tuD_l08ZXiB",
        "colab": {
          "base_uri": "https://localhost:8080/",
          "height": 389
        },
        "outputId": "09efd4bb-2349-4ae1-9d0a-141d8c4707bc"
      },
      "source": [
        "# get the calss name of the prediction\n",
        "display(Image.open(dataset_dir+\"test/Mercedes-Benz C-Class Sedan 2012/01977.jpg\"))\n",
        "print(classes[predicted.item()], 'confidence:', conf.item())"
      ],
      "execution_count": 23,
      "outputs": [
        {
          "output_type": "display_data",
          "data": {
            "image/png": "[encoded data removed]",
            "text/plain": [
              "<PIL.JpegImagePlugin.JpegImageFile image mode=RGB size=569x355 at 0x7F6D5013B150>"
            ]
          },
          "metadata": {
            "tags": []
          }
        },
        {
          "output_type": "stream",
          "text": [
            "Cadillac CTS-V Sedan 2012 confidence: 7.170183181762695\n"
          ],
          "name": "stdout"
        }
      ]
    },
    {
      "cell_type": "markdown",
      "metadata": {
        "id": "UJ7acq8tKDE4"
      },
      "source": [
        "# 5 Model Prediction/Deployment and Monitor"
      ]
    },
    {
      "cell_type": "code",
      "metadata": {
        "id": "VRedDPA6KGOl"
      },
      "source": [
        "PATH = 'car_model.pth'\n",
        "torch.save(model_ft.state_dict(), PATH)"
      ],
      "execution_count": 27,
      "outputs": []
    },
    {
      "cell_type": "code",
      "metadata": {
        "id": "ZJXnBDcsKRBU",
        "colab": {
          "base_uri": "https://localhost:8080/"
        },
        "outputId": "235d6800-673b-445f-87ad-207d896656cf"
      },
      "source": [
        "model_loaded = torch.load(PATH)\n",
        "model_loaded\n"
      ],
      "execution_count": 28,
      "outputs": [
        {
          "output_type": "execute_result",
          "data": {
            "text/plain": [
              "OrderedDict([('features.0.weight',\n",
              "              tensor([[[[ 9.3264e-02,  6.0800e-02,  6.7535e-02,  ...,  5.7732e-02,\n",
              "                          7.7109e-03,  3.9768e-02],\n",
              "                        [ 6.2631e-02,  1.5722e-02,  3.3614e-02,  ...,  2.0710e-02,\n",
              "                         -1.6792e-02, -6.2500e-03],\n",
              "                        [ 8.1592e-02,  3.2976e-02,  5.1624e-02,  ...,  4.3540e-02,\n",
              "                          1.3406e-02,  1.5197e-02],\n",
              "                        ...,\n",
              "                        [ 9.4738e-02,  9.5784e-02,  6.1825e-02,  ..., -2.3037e-01,\n",
              "                         -1.4081e-01, -1.1091e-01],\n",
              "                        [ 5.5262e-02,  7.2377e-02,  5.0269e-02,  ..., -2.1948e-01,\n",
              "                         -1.1466e-01, -9.4614e-02],\n",
              "                        [ 5.7157e-02,  6.6913e-02,  4.0180e-02,  ..., -1.2651e-01,\n",
              "                         -9.8166e-02, -7.4394e-02]],\n",
              "              \n",
              "                       [[-5.6268e-02, -5.4640e-02, -7.4499e-02,  ...,  1.4712e-02,\n",
              "                         -2.8364e-02,  2.0930e-02],\n",
              "                        [-4.4133e-02, -5.8032e-02, -6.1317e-02,  ...,  5.6673e-03,\n",
              "                         -2.3565e-02,  1.0139e-02],\n",
              "                        [-6.3648e-02, -6.6198e-02, -8.4693e-02,  ..., -1.0270e-02,\n",
              "                         -6.2011e-03,  1.8898e-02],\n",
              "                        ...,\n",
              "                        [-1.2636e-01, -7.1040e-02, -8.1930e-02,  ...,  2.6045e-01,\n",
              "                          1.5226e-01,  7.1016e-02],\n",
              "                        [-1.0595e-01, -3.7795e-02, -2.9691e-02,  ...,  1.6746e-01,\n",
              "                          1.4592e-01,  8.9879e-02],\n",
              "                        [-4.9612e-02, -1.7432e-03, -4.1366e-03,  ...,  1.3656e-01,\n",
              "                          1.2266e-01,  8.7317e-02]],\n",
              "              \n",
              "                       [[-2.1530e-02, -1.3023e-02, -3.7048e-02,  ...,  3.6903e-02,\n",
              "                         -2.7911e-02,  1.1782e-02],\n",
              "                        [ 1.1627e-02,  1.9902e-02,  6.6100e-03,  ...,  1.1974e-02,\n",
              "                         -2.1980e-02,  4.3805e-03],\n",
              "                        [ 2.6854e-02,  3.6315e-02,  3.2240e-03,  ...,  7.3444e-03,\n",
              "                         -4.5976e-03,  5.6305e-03],\n",
              "                        ...,\n",
              "                        [-6.0811e-02, -1.4565e-02, -6.9271e-02,  ...,  4.2448e-02,\n",
              "                         -5.2695e-02, -1.0809e-01],\n",
              "                        [-3.1513e-02,  2.0404e-02, -2.0321e-02,  ..., -7.3808e-02,\n",
              "                         -6.4021e-02, -9.4421e-02],\n",
              "                        [-2.6736e-03,  3.0252e-02, -1.2712e-02,  ..., -1.0576e-01,\n",
              "                         -7.8112e-02, -8.0562e-02]]],\n",
              "              \n",
              "              \n",
              "                      [[[ 1.9896e-02,  2.2163e-02,  5.4507e-02,  ...,  1.0155e-01,\n",
              "                          6.2608e-02,  5.7271e-02],\n",
              "                        [ 2.6134e-02,  1.9763e-02,  2.1914e-02,  ...,  5.8064e-02,\n",
              "                          2.9398e-02,  3.6662e-02],\n",
              "                        [ 4.8294e-02,  2.4893e-02,  2.1422e-02,  ..., -4.4199e-02,\n",
              "                         -7.4623e-02,  1.4626e-02],\n",
              "                        ...,\n",
              "                        [ 6.4404e-03, -7.5581e-03, -5.8409e-03,  ...,  1.2074e-02,\n",
              "                         -3.9606e-02,  2.8548e-02],\n",
              "                        [ 2.4238e-02, -1.5698e-02, -1.3220e-02,  ...,  1.2230e-02,\n",
              "                         -5.2397e-02,  2.5116e-02],\n",
              "                        [-1.8452e-02, -2.2690e-02,  2.8861e-04,  ...,  1.3678e-02,\n",
              "                          3.2121e-03,  2.7173e-02]],\n",
              "              \n",
              "                       [[ 4.7379e-02,  4.6417e-02,  1.1290e-02,  ...,  4.3044e-02,\n",
              "                          1.4328e-02,  8.3823e-02],\n",
              "                        [ 6.5077e-02,  7.4604e-02,  8.9321e-03,  ...,  5.6085e-02,\n",
              "                          6.1661e-03,  9.1253e-02],\n",
              "                        [ 5.4332e-02,  4.2410e-02, -3.4806e-02,  ..., -1.1756e-01,\n",
              "                         -1.5435e-01,  3.3508e-02],\n",
              "                        ...,\n",
              "                        [ 8.1485e-02,  8.1264e-02,  2.0345e-02,  ...,  3.1343e-02,\n",
              "                         -3.7791e-02,  7.5929e-02],\n",
              "                        [ 6.0595e-02,  4.6591e-02, -6.7739e-03,  ...,  1.0759e-02,\n",
              "                         -5.7856e-02,  5.4369e-02],\n",
              "                        [ 1.2555e-01,  1.3197e-01,  8.9778e-02,  ...,  9.1651e-02,\n",
              "                          4.3302e-02,  1.2359e-01]],\n",
              "              \n",
              "                       [[-3.5077e-02,  8.0734e-03, -5.4205e-02,  ..., -7.8140e-03,\n",
              "                         -7.1549e-02,  4.0568e-03],\n",
              "                        [ 5.4103e-03,  5.8017e-02, -7.9062e-03,  ...,  5.5628e-02,\n",
              "                         -5.0015e-03,  3.5433e-02],\n",
              "                        [-7.0233e-02, -2.5235e-02, -9.7624e-02,  ..., -8.5574e-02,\n",
              "                         -1.4883e-01, -4.3459e-03],\n",
              "                        ...,\n",
              "                        [-1.6705e-02,  3.0721e-02, -4.5771e-02,  ..., -3.1584e-02,\n",
              "                         -1.4353e-01, -5.7867e-03],\n",
              "                        [-3.9720e-02, -2.4076e-02, -1.0002e-01,  ..., -9.4031e-02,\n",
              "                         -1.9400e-01, -4.9127e-02],\n",
              "                        [ 3.5168e-02,  6.3733e-02, -5.9499e-03,  ..., -3.5074e-02,\n",
              "                         -9.3794e-02,  2.0601e-02]]],\n",
              "              \n",
              "              \n",
              "                      [[[-5.9937e-02,  2.5011e-02,  2.0660e-02,  ..., -8.3445e-02,\n",
              "                         -1.0875e-01, -2.4156e-01],\n",
              "                        [-1.1760e-01, -8.5357e-03, -9.9522e-03,  ..., -7.7298e-02,\n",
              "                         -1.4476e-01, -3.3400e-01],\n",
              "                        [-1.6156e-01, -5.8114e-02, -4.4721e-02,  ...,  2.1035e-01,\n",
              "                          1.7548e-02, -2.0260e-01],\n",
              "                        ...,\n",
              "                        [-1.1116e-01, -9.8891e-02, -2.7174e-01,  ...,  1.1543e-01,\n",
              "                          1.7955e-01,  1.3512e-01],\n",
              "                        [-9.1439e-02, -6.5101e-02, -2.4017e-01,  ...,  2.8008e-02,\n",
              "                          1.1297e-01,  1.1776e-01],\n",
              "                        [ 1.6758e-02,  2.3638e-02, -1.5433e-01,  ..., -3.7243e-02,\n",
              "                          1.6651e-02,  5.3116e-02]],\n",
              "              \n",
              "                       [[ 5.6060e-02,  2.5721e-02,  6.6407e-03,  ...,  2.4915e-02,\n",
              "                          9.2866e-02,  1.6322e-01],\n",
              "                        [ 7.6993e-02,  4.6343e-02,  3.0627e-02,  ..., -1.9287e-02,\n",
              "                          7.5394e-02,  1.4912e-01],\n",
              "                        [ 9.6816e-02,  6.2572e-02,  3.3083e-02,  ..., -1.5021e-01,\n",
              "                         -6.1417e-02,  6.7935e-02],\n",
              "                        ...,\n",
              "                        [ 1.3436e-01,  1.0638e-01,  1.5382e-01,  ..., -5.2838e-02,\n",
              "                         -9.4399e-02, -4.4115e-02],\n",
              "                        [ 1.2467e-01,  1.0781e-01,  1.4319e-01,  ...,  6.8277e-04,\n",
              "                         -3.9816e-02,  7.0403e-03],\n",
              "                        [ 7.4435e-02,  7.3628e-02,  1.0626e-01,  ...,  4.5950e-02,\n",
              "                         -4.8748e-03,  2.3647e-02]],\n",
              "              \n",
              "                       [[ 6.4919e-03, -3.7388e-02, -6.6423e-03,  ...,  1.1758e-01,\n",
              "                          1.5250e-01,  1.3793e-01],\n",
              "                        [-1.0379e-03, -3.2668e-02,  3.3926e-03,  ...,  7.3874e-02,\n",
              "                          1.7509e-01,  1.9546e-01],\n",
              "                        [ 7.1875e-02,  1.2831e-02,  4.2404e-02,  ..., -8.8543e-02,\n",
              "                          3.6918e-02,  1.8375e-01],\n",
              "                        ...,\n",
              "                        [-2.6490e-02, -3.3343e-02,  1.2057e-01,  ..., -9.9230e-02,\n",
              "                         -1.4045e-01, -9.5304e-02],\n",
              "                        [-2.8605e-02, -3.6995e-02,  1.1650e-01,  ..., -1.9793e-02,\n",
              "                         -5.4576e-02, -4.7005e-02],\n",
              "                        [-1.6020e-01, -1.7399e-01, -1.3023e-02,  ...,  1.8218e-02,\n",
              "                         -1.9511e-02, -3.6146e-02]]],\n",
              "              \n",
              "              \n",
              "                      ...,\n",
              "              \n",
              "              \n",
              "                      [[[ 1.3032e-02,  1.6921e-02, -6.4545e-03,  ...,  1.4871e-02,\n",
              "                          1.6994e-02, -2.0970e-03],\n",
              "                        [-1.1300e-03,  2.6347e-02, -6.2140e-03,  ..., -2.0071e-03,\n",
              "                          8.6906e-03, -5.2164e-03],\n",
              "                        [ 8.9425e-03,  2.7423e-02, -1.2980e-02,  ..., -1.7483e-02,\n",
              "                         -1.2025e-02, -3.0588e-02],\n",
              "                        ...,\n",
              "                        [ 8.3415e-02,  7.6305e-02,  1.1776e-01,  ...,  1.2807e-01,\n",
              "                          7.8637e-02,  6.1705e-02],\n",
              "                        [ 1.2400e-01,  9.5498e-02,  1.0414e-01,  ..., -5.5000e-02,\n",
              "                         -6.2703e-02, -5.1989e-02],\n",
              "                        [-1.0642e-01, -1.1660e-01, -1.6190e-01,  ..., -1.7807e-01,\n",
              "                         -1.5745e-01, -1.5661e-01]],\n",
              "              \n",
              "                       [[-1.7386e-03,  1.2369e-02, -1.0038e-02,  ...,  1.5230e-02,\n",
              "                          1.9156e-02,  1.2675e-02],\n",
              "                        [-1.2869e-03, -6.1806e-04,  9.8021e-03,  ..., -1.2698e-02,\n",
              "                          8.1667e-03,  1.7325e-03],\n",
              "                        [ 9.1284e-03,  1.6758e-02, -1.2922e-02,  ..., -5.7417e-03,\n",
              "                         -3.1146e-03, -2.0017e-02],\n",
              "                        ...,\n",
              "                        [ 1.1758e-01,  8.4758e-02,  1.3719e-01,  ...,  1.5313e-01,\n",
              "                          9.2340e-02,  9.7423e-02],\n",
              "                        [ 1.8529e-01,  1.3412e-01,  1.3774e-01,  ..., -2.7825e-02,\n",
              "                         -3.0397e-02, -1.8544e-02],\n",
              "                        [-1.1027e-01, -1.2709e-01, -1.6089e-01,  ..., -1.8133e-01,\n",
              "                         -1.5542e-01, -1.6004e-01]],\n",
              "              \n",
              "                       [[-2.6732e-02, -2.2020e-02, -2.7349e-02,  ...,  1.5972e-03,\n",
              "                          5.9698e-03, -2.1093e-03],\n",
              "                        [-2.0761e-02, -1.9394e-02, -2.0511e-02,  ..., -9.6472e-03,\n",
              "                         -6.5191e-03, -2.1524e-02],\n",
              "                        [-1.4964e-02, -7.2646e-03, -1.6879e-02,  ..., -1.1837e-02,\n",
              "                         -2.0733e-03, -3.9273e-02],\n",
              "                        ...,\n",
              "                        [ 1.6867e-02, -2.9720e-02,  3.3157e-02,  ...,  4.9873e-02,\n",
              "                          3.4524e-02,  2.9807e-02],\n",
              "                        [ 1.1076e-01,  8.7665e-02,  1.2638e-01,  ...,  1.5969e-02,\n",
              "                          1.9234e-02,  6.1354e-03],\n",
              "                        [-8.9821e-02, -7.3427e-02, -8.1747e-02,  ..., -3.3466e-02,\n",
              "                         -1.8611e-02, -4.3400e-02]]],\n",
              "              \n",
              "              \n",
              "                      [[[ 3.1288e-02,  6.1584e-02,  8.6900e-03,  ...,  3.9212e-02,\n",
              "                          9.1806e-03,  2.1348e-02],\n",
              "                        [ 6.4931e-02,  3.1391e-02,  4.6052e-02,  ...,  7.7769e-02,\n",
              "                          4.2425e-02,  5.0437e-02],\n",
              "                        [-1.4612e-02, -4.8046e-03, -1.9525e-03,  ..., -2.3509e-03,\n",
              "                          2.7011e-03,  2.1538e-04],\n",
              "                        ...,\n",
              "                        [-4.2287e-02, -6.4325e-02, -5.1992e-02,  ..., -2.7027e-02,\n",
              "                         -4.6567e-02, -6.3656e-02],\n",
              "                        [-9.7976e-04, -3.9296e-02, -2.0600e-02,  ..., -5.1047e-02,\n",
              "                         -3.5833e-02, -3.8931e-02],\n",
              "                        [-2.1857e-02, -3.6406e-02, -1.3900e-02,  ..., -4.6376e-02,\n",
              "                         -2.6004e-02, -3.9955e-02]],\n",
              "              \n",
              "                       [[-2.6955e-02,  1.0184e-02, -9.1397e-02,  ..., -5.8523e-02,\n",
              "                         -6.2178e-02, -1.3942e-02],\n",
              "                        [ 5.5648e-02,  6.4365e-02,  3.1407e-02,  ...,  6.9101e-02,\n",
              "                          4.0634e-02,  6.8403e-02],\n",
              "                        [-7.9854e-02, -2.4862e-02, -7.6025e-02,  ..., -5.5875e-02,\n",
              "                         -5.1140e-02, -5.4252e-02],\n",
              "                        ...,\n",
              "                        [ 4.0614e-02,  1.8156e-02,  3.0867e-02,  ...,  4.2938e-02,\n",
              "                          4.7435e-02,  2.8752e-02],\n",
              "                        [ 1.1404e-01,  7.3498e-02,  9.4171e-02,  ...,  9.8614e-02,\n",
              "                          1.0173e-01,  1.0326e-01],\n",
              "                        [-7.0236e-03, -4.5977e-03,  3.6062e-02,  ...,  3.5533e-02,\n",
              "                          5.9954e-02,  2.9682e-02]],\n",
              "              \n",
              "                       [[-1.2634e-01, -6.8750e-02, -1.8808e-01,  ..., -1.2640e-01,\n",
              "                         -1.5273e-01, -8.3522e-02],\n",
              "                        [ 1.6634e-02,  5.0738e-02, -6.6738e-03,  ...,  5.0813e-02,\n",
              "                          8.9900e-03,  4.7999e-02],\n",
              "                        [-1.9684e-01, -1.0142e-01, -1.7411e-01,  ..., -1.5472e-01,\n",
              "                         -1.5011e-01, -1.4676e-01],\n",
              "                        ...,\n",
              "                        [ 4.8358e-02,  1.0116e-02,  4.1659e-02,  ...,  5.2568e-02,\n",
              "                          6.1203e-02,  3.0899e-02],\n",
              "                        [ 1.2825e-01,  8.9626e-02,  1.2740e-01,  ...,  1.3939e-01,\n",
              "                          1.4776e-01,  1.4321e-01],\n",
              "                        [-7.6806e-03, -2.9594e-02,  5.1336e-02,  ...,  8.8987e-02,\n",
              "                          1.2973e-01,  6.8041e-02]]],\n",
              "              \n",
              "              \n",
              "                      [[[-9.9034e-02,  3.6113e-02,  1.2694e-01,  ..., -2.9616e-02,\n",
              "                          1.6499e-02,  1.2832e-03],\n",
              "                        [ 5.8558e-02,  1.3098e-01, -1.3057e-01,  ...,  6.9109e-02,\n",
              "                         -3.5404e-03, -1.6153e-02],\n",
              "                        [ 1.0518e-01, -1.4562e-01, -2.2059e-01,  ..., -5.1358e-02,\n",
              "                         -8.3586e-02,  3.2515e-02],\n",
              "                        ...,\n",
              "                        [-2.0181e-01,  1.6866e-02,  3.5288e-01,  ...,  2.7538e-01,\n",
              "                          1.0266e-01, -1.7905e-01],\n",
              "                        [ 8.8730e-02,  1.5980e-01,  1.5998e-02,  ..., -7.9224e-02,\n",
              "                         -2.4618e-01, -6.4946e-02],\n",
              "                        [ 2.7324e-02, -7.5001e-02, -1.0053e-01,  ..., -9.5069e-02,\n",
              "                          1.0601e-01,  1.0900e-01]],\n",
              "              \n",
              "                       [[-7.7085e-02,  7.4430e-02,  1.3904e-01,  ...,  4.2539e-03,\n",
              "                          5.5974e-02,  2.5672e-02],\n",
              "                        [ 1.0311e-01,  1.3703e-01, -1.2597e-01,  ...,  1.1942e-01,\n",
              "                          3.5511e-02, -5.6817e-03],\n",
              "                        [ 1.3313e-01, -1.5407e-01, -1.8278e-01,  ..., -4.4084e-02,\n",
              "                         -8.1369e-02,  4.7910e-02],\n",
              "                        ...,\n",
              "                        [-2.1436e-01,  7.1146e-02,  5.0795e-01,  ...,  3.3081e-01,\n",
              "                          1.7685e-01, -1.2701e-01],\n",
              "                        [ 1.2747e-01,  2.2728e-01,  5.2596e-02,  ...,  9.7153e-03,\n",
              "                         -2.0655e-01, -3.6827e-02],\n",
              "                        [ 3.9055e-02, -9.8927e-02, -1.7175e-01,  ..., -4.8148e-02,\n",
              "                          1.2132e-01,  1.4707e-01]],\n",
              "              \n",
              "                       [[-1.1189e-01,  4.0168e-02,  1.3457e-01,  ..., -5.5418e-02,\n",
              "                          1.5953e-02, -6.6140e-03],\n",
              "                        [ 5.0293e-02,  1.1510e-01, -1.2920e-01,  ...,  9.0452e-02,\n",
              "                          1.3070e-02, -1.1438e-02],\n",
              "                        [ 9.5417e-02, -1.1633e-01, -1.8251e-01,  ..., -4.4221e-02,\n",
              "                         -9.5112e-02,  3.1410e-02],\n",
              "                        ...,\n",
              "                        [-2.2573e-01,  3.9119e-02,  4.0222e-01,  ...,  2.3530e-01,\n",
              "                          9.0539e-02, -1.4716e-01],\n",
              "                        [ 9.1830e-02,  1.8999e-01,  4.0729e-02,  ..., -5.5726e-02,\n",
              "                         -2.2248e-01, -3.9750e-02],\n",
              "                        [ 5.2203e-02, -9.3307e-02, -1.5782e-01,  ..., -4.0008e-02,\n",
              "                          1.1379e-01,  8.9274e-02]]]], device='cuda:0')),\n",
              "             ('features.0.bias',\n",
              "              tensor([-1.1872, -2.9392, -0.3674, -0.4103, -0.4290, -0.3896, -0.4590, -1.5160,\n",
              "                       1.4788, -0.3229, -0.3941, -0.4913, -0.4898, -0.4221, -0.4599, -1.3953,\n",
              "                      -0.4054, -0.3836, -0.4684, -1.2752, -0.4234, -0.4115, -0.4127, -0.4242,\n",
              "                      -0.4208, -0.3376, -2.0717, -0.3240, -0.5024, -0.5077, -0.4461, -2.1907,\n",
              "                      -0.3855, -0.3687, -0.3424, -0.5946, -2.9444,  0.5451, -0.5071, -2.3801,\n",
              "                      -0.0843, -0.3490, -0.5546, -0.3512, -0.6407, -2.1398, -1.3012, -0.3458,\n",
              "                      -0.4085, -0.3179, -0.6110, -1.8894, -0.1551, -0.1223, -0.3015, -0.4050,\n",
              "                      -0.4224, -0.4323, -1.3344, -0.4695, -0.2122, -0.6206, -0.3202, -0.2556],\n",
              "                     device='cuda:0')),\n",
              "             ('features.3.weight',\n",
              "              tensor([[[[ 2.6648e-02,  1.7915e-02,  3.0167e-02, -2.7769e-02, -1.6606e-02],\n",
              "                        [ 6.1886e-02,  6.9729e-03,  6.9157e-02, -1.0414e-01, -5.9558e-03],\n",
              "                        [ 1.5851e-02, -1.1906e-01,  2.8167e-02, -5.6125e-02,  1.7205e-02],\n",
              "                        [-2.8007e-02, -6.2151e-02, -6.5390e-02,  3.8023e-02, -1.2687e-02],\n",
              "                        [-2.0081e-02, -1.2185e-02,  1.6189e-02, -3.0967e-03, -9.6241e-03]],\n",
              "              \n",
              "                       [[-2.1597e-03,  2.3393e-03, -1.7477e-02, -1.3355e-02,  1.4911e-02],\n",
              "                        [-1.5037e-02,  2.5283e-02,  2.8941e-02, -9.0511e-03, -1.8860e-02],\n",
              "                        [-2.6730e-02,  5.6873e-02,  1.0508e-02, -1.7424e-02, -4.0074e-03],\n",
              "                        [-4.9835e-02, -2.0775e-02, -1.2381e-02, -3.3479e-02, -1.0149e-03],\n",
              "                        [ 7.7815e-03, -5.5776e-02, -4.5649e-02, -2.1398e-02,  5.0322e-02]],\n",
              "              \n",
              "                       [[ 5.4390e-03, -6.5648e-02, -1.0205e-01,  5.4358e-02,  4.6152e-02],\n",
              "                        [ 5.2133e-03, -9.0740e-02, -1.2224e-02,  6.6424e-02,  4.2592e-02],\n",
              "                        [-1.7507e-02,  6.0156e-02,  2.3316e-01,  7.1932e-02, -5.8721e-02],\n",
              "                        [-1.8691e-02,  6.9095e-02, -3.5566e-02, -1.7245e-01, -4.9603e-02],\n",
              "                        [ 3.0728e-02,  1.3906e-02, -7.9412e-02, -1.2834e-01,  4.9022e-03]],\n",
              "              \n",
              "                       ...,\n",
              "              \n",
              "                       [[-5.4022e-02,  2.1830e-04,  1.1502e-03, -6.4858e-02, -1.9220e-02],\n",
              "                        [-6.9099e-02, -3.1409e-02,  2.8667e-02, -1.1623e-01, -1.0541e-01],\n",
              "                        [-7.4251e-02, -9.7006e-02,  6.7341e-02, -2.7438e-02, -1.1744e-01],\n",
              "                        [ 3.8319e-03, -8.0608e-03,  2.1894e-02,  3.4739e-02, -4.7905e-03],\n",
              "                        [-7.4248e-03, -2.3168e-02, -5.7065e-02, -2.1544e-02, -1.8859e-02]],\n",
              "              \n",
              "                       [[-1.7003e-02,  1.6661e-02,  5.1812e-02,  2.0625e-02, -5.1904e-02],\n",
              "                        [-6.7369e-03, -1.5334e-03,  8.4622e-02,  2.5310e-02,  4.6620e-02],\n",
              "                        [ 7.7640e-03, -2.2797e-03, -6.5984e-02, -6.4910e-02,  3.0480e-02],\n",
              "                        [-1.1744e-02,  1.8937e-02, -8.0792e-03,  1.5067e-03,  1.9685e-02],\n",
              "                        [-8.5520e-02, -7.8587e-02,  2.7456e-03, -1.1633e-02, -6.8142e-02]],\n",
              "              \n",
              "                       [[ 2.6635e-02,  5.5498e-02, -3.0842e-02, -9.4010e-02,  3.4768e-02],\n",
              "                        [ 7.1391e-02,  5.2235e-02,  1.9811e-01, -1.6268e-01, -1.1391e-01],\n",
              "                        [ 1.2780e-02, -1.1106e-01,  3.1647e-01,  2.2523e-01, -1.4506e-01],\n",
              "                        [ 5.7859e-03, -8.2406e-02, -1.0495e-01,  1.6635e-01,  7.5411e-02],\n",
              "                        [ 1.9857e-02,  4.4496e-02, -8.9911e-02, -1.5678e-02,  1.9989e-02]]],\n",
              "              \n",
              "              \n",
              "                      [[[-4.6272e-03, -6.4018e-02,  2.4952e-02,  4.6839e-03, -1.1426e-02],\n",
              "                        [ 1.9057e-02, -5.0459e-02, -5.5832e-02, -3.4093e-02,  5.8412e-03],\n",
              "                        [ 9.8436e-03, -4.0905e-02, -1.8197e-01, -2.1648e-02, -4.4320e-02],\n",
              "                        [-3.4708e-02,  3.2149e-02, -5.4196e-02, -1.2645e-02, -3.0595e-02],\n",
              "                        [ 5.8680e-03,  1.0212e-02, -4.0212e-02, -2.3090e-02, -3.3556e-02]],\n",
              "              \n",
              "                       [[-3.6148e-02, -2.8245e-02, -7.7251e-02,  1.3936e-03, -5.3957e-02],\n",
              "                        [-1.7794e-02, -3.2100e-03, -7.1970e-02,  1.6224e-03, -4.6302e-02],\n",
              "                        [-1.9580e-02,  1.4183e-02, -2.3295e-02, -2.8549e-03, -3.4194e-03],\n",
              "                        [-1.5440e-02, -8.2906e-02, -3.6403e-02, -3.2667e-02, -4.9202e-02],\n",
              "                        [-1.2851e-02, -9.7689e-02,  1.4253e-02, -7.2856e-03, -3.2441e-02]],\n",
              "              \n",
              "                       [[-4.4044e-02,  1.2126e-01, -1.0572e-02,  4.6975e-03,  3.7223e-03],\n",
              "                        [-1.1990e-01,  1.8423e-01,  1.6209e-01, -7.4965e-03,  1.9022e-02],\n",
              "                        [-1.3028e-01,  8.8725e-02,  3.2270e-01, -6.7418e-03,  2.1387e-02],\n",
              "                        [-3.6000e-02, -1.3313e-01,  2.0113e-01,  3.9511e-02, -6.4824e-02],\n",
              "                        [-3.5078e-02, -2.2036e-01,  7.3163e-02,  1.1411e-01, -3.1651e-02]],\n",
              "              \n",
              "                       ...,\n",
              "              \n",
              "                       [[-1.4187e-02, -8.3309e-03,  2.9037e-02, -3.9294e-03, -4.4208e-02],\n",
              "                        [-1.1470e-02,  2.5152e-02,  2.6165e-02,  6.8161e-02, -2.3421e-02],\n",
              "                        [-1.4759e-02,  4.5209e-02, -3.0964e-02,  9.4853e-03, -2.1758e-02],\n",
              "                        [-4.2400e-02,  3.7296e-02,  3.0142e-02, -2.7009e-02, -6.2731e-03],\n",
              "                        [ 3.3921e-03, -1.3173e-02,  2.8568e-02, -7.0035e-03,  3.2665e-02]],\n",
              "              \n",
              "                       [[ 1.7411e-03, -3.6587e-02, -3.6235e-02,  2.8598e-03, -1.6851e-02],\n",
              "                        [-2.7792e-02, -6.9800e-02, -9.2762e-02,  2.3414e-02, -2.5076e-02],\n",
              "                        [-1.6950e-02, -8.6007e-02, -1.4055e-01, -3.5164e-02, -1.6888e-02],\n",
              "                        [-1.6719e-02, -5.3289e-02, -7.2927e-03, -1.9920e-02, -4.2552e-02],\n",
              "                        [ 4.5558e-02,  4.9331e-02,  5.5155e-02, -2.9689e-02,  3.1683e-03]],\n",
              "              \n",
              "                       [[-2.7521e-04, -1.1892e-02,  3.0720e-02,  3.2720e-02,  1.7182e-02],\n",
              "                        [ 1.4658e-02,  4.2632e-02, -1.1277e-02,  3.8063e-02,  2.4519e-02],\n",
              "                        [ 9.8483e-03,  6.9463e-02, -4.3753e-02,  5.0961e-02,  3.2536e-02],\n",
              "                        [-2.8666e-03,  3.5955e-02,  1.9777e-02, -3.3793e-03, -1.8061e-03],\n",
              "                        [ 2.0449e-02,  3.6631e-02,  3.5429e-02, -3.3043e-02, -4.5505e-03]]],\n",
              "              \n",
              "              \n",
              "                      [[[-2.9374e-02, -4.8922e-02, -7.4085e-02, -3.7005e-02,  1.1626e-02],\n",
              "                        [ 1.5586e-01, -7.4065e-02, -6.7236e-02, -3.8028e-02,  3.7920e-03],\n",
              "                        [ 2.0866e-02, -5.5133e-02, -2.9289e-02, -3.6665e-03,  9.5862e-03],\n",
              "                        [-1.6101e-02, -1.5328e-02, -5.4306e-03, -4.9293e-03, -1.1518e-02],\n",
              "                        [ 2.7630e-02,  6.9863e-03,  4.3580e-02,  3.1757e-02, -4.8114e-03]],\n",
              "              \n",
              "                       [[ 3.7001e-04, -5.0757e-02, -3.3736e-02,  7.3164e-03,  1.3781e-02],\n",
              "                        [ 1.7298e-02, -9.5904e-02, -5.4253e-02, -1.9030e-02,  3.2816e-02],\n",
              "                        [ 2.0657e-02, -7.9158e-02, -5.4193e-02, -3.2376e-02,  2.1738e-02],\n",
              "                        [-3.5191e-03, -8.0976e-02, -6.8623e-02, -1.7889e-02,  1.9575e-03],\n",
              "                        [ 3.7619e-02, -4.9125e-03, -4.4366e-03,  1.5168e-02,  1.8443e-02]],\n",
              "              \n",
              "                       [[ 1.4550e-02, -4.9402e-02, -2.9844e-02, -1.8158e-02, -4.8077e-02],\n",
              "                        [ 2.4672e-01, -3.1544e-02, -4.4144e-02, -3.2399e-02, -5.6197e-02],\n",
              "                        [ 1.5312e-01, -1.5741e-03, -5.4472e-02, -8.5877e-03, -2.2167e-02],\n",
              "                        [-5.3825e-02, -7.8939e-03, -1.9851e-03,  2.9632e-02,  1.7088e-02],\n",
              "                        [-3.6965e-02,  2.5623e-03,  2.1251e-02,  1.1806e-02,  1.7231e-05]],\n",
              "              \n",
              "                       ...,\n",
              "              \n",
              "                       [[ 2.1795e-02,  3.1382e-03, -1.2376e-02, -1.8799e-02, -1.9553e-02],\n",
              "                        [ 1.3168e-01,  1.0871e-02, -2.4402e-02, -1.3919e-02, -1.7171e-02],\n",
              "                        [ 3.2536e-03, -3.4795e-02, -3.4276e-02, -5.1387e-03, -6.8366e-03],\n",
              "                        [-5.3651e-03,  1.7563e-03,  2.3443e-02, -2.0357e-04, -5.2079e-03],\n",
              "                        [-1.1350e-02, -2.8109e-02,  5.1140e-03,  1.1331e-02, -8.9741e-03]],\n",
              "              \n",
              "                       [[-9.4954e-03, -2.1831e-02, -5.4332e-02, -5.0877e-02, -2.9655e-02],\n",
              "                        [ 1.3125e-01, -9.1003e-02, -6.3558e-02,  6.3128e-05, -4.5967e-03],\n",
              "                        [ 3.6936e-02, -5.2683e-02, -6.4115e-02, -3.4033e-02, -3.9406e-03],\n",
              "                        [ 1.1443e-02,  7.0581e-03, -5.3384e-03, -2.5358e-02,  5.5099e-03],\n",
              "                        [-1.7769e-02, -3.5960e-02, -3.0590e-02, -9.5228e-03, -2.1276e-02]],\n",
              "              \n",
              "                       [[-1.7175e-03,  2.1607e-02,  1.6568e-02, -5.1986e-03, -9.2012e-03],\n",
              "                        [ 1.0453e-01, -1.0971e-02,  9.3870e-03,  9.1592e-03, -5.4920e-03],\n",
              "                        [ 3.0686e-02, -4.2797e-02, -2.9571e-03, -2.9631e-03, -2.5236e-02],\n",
              "                        [-2.7304e-02, -9.1473e-03, -1.2500e-02, -1.4041e-02, -2.3713e-02],\n",
              "                        [ 6.9449e-03,  2.3670e-03, -8.1069e-03, -5.8622e-04, -4.6280e-03]]],\n",
              "              \n",
              "              \n",
              "                      ...,\n",
              "              \n",
              "              \n",
              "                      [[[ 2.2484e-03, -5.6552e-04,  2.6736e-02, -2.0021e-02, -4.4521e-02],\n",
              "                        [-1.8265e-02, -4.3635e-02, -1.6218e-03, -2.0069e-03, -1.1662e-02],\n",
              "                        [-3.5058e-02, -3.9666e-02, -5.0497e-02, -3.0619e-02, -4.3416e-02],\n",
              "                        [-3.6217e-03, -2.3841e-03, -1.9040e-02, -4.1148e-02, -3.9918e-02],\n",
              "                        [ 1.9757e-02,  2.4248e-03, -1.8315e-03, -2.4581e-02, -3.5516e-02]],\n",
              "              \n",
              "                       [[-6.0493e-02, -2.8890e-02, -4.4081e-02, -5.1161e-02, -3.0519e-02],\n",
              "                        [-4.8509e-02, -1.6583e-02, -1.0328e-02,  5.2674e-02,  3.2606e-02],\n",
              "                        [-3.7284e-02, -1.4676e-02, -3.1367e-02,  3.9361e-03, -2.8618e-02],\n",
              "                        [-4.1124e-02, -4.2803e-03, -5.1330e-02, -6.7023e-02, -3.7654e-02],\n",
              "                        [-2.2299e-02,  2.6032e-02,  1.1405e-02, -2.1217e-02, -4.7731e-03]],\n",
              "              \n",
              "                       [[-3.3627e-02, -8.3694e-02, -1.3413e-01, -9.1252e-02,  2.8043e-02],\n",
              "                        [-6.7925e-02, -1.0183e-01, -6.0117e-02,  5.1034e-02,  1.1427e-01],\n",
              "                        [ 8.8051e-03,  3.1438e-04,  6.8367e-02,  6.7499e-02,  3.9173e-04],\n",
              "                        [ 3.6033e-02,  2.6513e-03,  5.7000e-02, -1.3820e-02, -7.4459e-02],\n",
              "                        [-4.7396e-03,  9.3776e-03,  4.6751e-02, -6.8855e-03, -6.0119e-02]],\n",
              "              \n",
              "                       ...,\n",
              "              \n",
              "                       [[-1.1915e-02, -4.3712e-02, -4.8353e-02,  6.9868e-02,  3.8394e-02],\n",
              "                        [-5.3884e-02, -8.0909e-02, -7.2226e-02,  6.4212e-02,  2.2280e-02],\n",
              "                        [ 2.2939e-02,  1.2699e-02, -4.2534e-02, -1.6606e-02, -1.7620e-03],\n",
              "                        [ 2.9711e-02,  2.8870e-02, -1.8749e-02, -4.2603e-02,  4.3352e-03],\n",
              "                        [ 1.9392e-02,  2.8256e-02, -1.1079e-02, -5.8000e-02, -3.5044e-02]],\n",
              "              \n",
              "                       [[-2.8514e-02,  8.5075e-03,  2.4392e-03, -3.0908e-02, -2.1121e-02],\n",
              "                        [-4.9952e-02, -1.9673e-02, -9.3207e-03, -1.0472e-01, -9.0946e-02],\n",
              "                        [-3.0446e-02,  3.3984e-02,  1.6482e-02,  1.1398e-03,  8.5925e-03],\n",
              "                        [ 1.2705e-02,  2.6469e-03, -1.5192e-02, -8.7224e-03, -2.1929e-02],\n",
              "                        [-3.9239e-02, -2.4209e-03, -5.2994e-02, -1.0411e-02,  9.8505e-03]],\n",
              "              \n",
              "                       [[ 4.6837e-02,  3.4532e-02,  6.6209e-04,  2.8352e-02, -5.3826e-02],\n",
              "                        [ 8.7535e-02,  4.3260e-02, -4.1229e-02,  3.8870e-02,  1.2272e-01],\n",
              "                        [ 5.7080e-02,  3.8634e-02, -6.4655e-02, -9.0596e-02,  4.0392e-03],\n",
              "                        [ 3.2627e-02,  5.2412e-02,  5.7695e-02, -9.4763e-03, -7.1245e-02],\n",
              "                        [ 7.0761e-03,  1.8875e-02,  3.1437e-02,  4.3548e-03, -3.7933e-02]]],\n",
              "              \n",
              "              \n",
              "                      [[[ 1.8558e-02, -2.0594e-02, -1.4991e-02, -5.8475e-02, -4.2374e-02],\n",
              "                        [ 1.6554e-02, -3.4028e-02, -8.5054e-02, -1.0243e-01, -4.7047e-02],\n",
              "                        [-1.6375e-02, -1.9777e-02, -8.5673e-02, -9.9657e-02, -5.2809e-02],\n",
              "                        [-2.9654e-03, -1.2157e-02, -2.8896e-02, -4.0248e-02, -3.7656e-02],\n",
              "                        [ 1.7505e-02, -5.4351e-03, -1.8799e-02, -4.2869e-03, -2.0721e-02]],\n",
              "              \n",
              "                       [[ 5.9937e-02, -8.2277e-04, -1.6583e-01, -1.0515e-01, -3.8550e-02],\n",
              "                        [ 8.3007e-02,  7.9314e-02, -6.4226e-02, -8.0618e-02, -1.0188e-01],\n",
              "                        [ 1.1832e-01,  1.5044e-01,  1.6839e-02, -7.7793e-02, -1.9599e-01],\n",
              "                        [ 4.1471e-02,  9.5514e-02,  4.1450e-02, -2.5968e-02, -1.4075e-01],\n",
              "                        [ 1.3152e-02,  6.9692e-02,  9.4372e-02,  5.7374e-02, -6.9612e-02]],\n",
              "              \n",
              "                       [[-1.9610e-02, -1.7997e-02, -8.5963e-03,  3.8693e-02,  1.0846e-01],\n",
              "                        [ 2.5973e-03, -1.8823e-03, -3.1549e-02,  4.8661e-03,  5.4123e-02],\n",
              "                        [ 4.9804e-02,  4.6672e-02,  2.8024e-02, -7.9373e-02, -2.3024e-02],\n",
              "                        [-7.4700e-03,  9.3863e-03,  3.6294e-02, -6.1086e-02, -9.0793e-02],\n",
              "                        [ 2.2743e-02, -5.0867e-03,  7.3862e-03, -4.1448e-02, -9.8679e-02]],\n",
              "              \n",
              "                       ...,\n",
              "              \n",
              "                       [[-2.9786e-02, -2.5059e-02,  2.2225e-02,  3.9644e-02,  5.9197e-03],\n",
              "                        [-2.5192e-02, -3.1481e-02, -3.6888e-02,  3.0980e-02,  3.7127e-02],\n",
              "                        [-3.9222e-02, -5.3336e-02, -8.4746e-02, -1.6376e-02,  5.0572e-02],\n",
              "                        [-6.3209e-03,  2.4135e-03, -1.9364e-02, -2.7206e-02,  3.0732e-03],\n",
              "                        [-1.9272e-03, -7.0988e-05,  2.4826e-03, -7.9036e-03,  2.3642e-02]],\n",
              "              \n",
              "                       [[-2.7754e-02, -7.1060e-02, -5.1923e-02,  3.9308e-02,  6.6548e-02],\n",
              "                        [ 1.2121e-02, -1.9227e-02, -1.5847e-01, -4.1725e-02, -1.5625e-02],\n",
              "                        [ 3.9061e-02,  3.4037e-02, -6.7016e-02, -1.3492e-01, -5.9084e-02],\n",
              "                        [-7.8923e-03,  1.5893e-02,  5.6117e-02, -3.8977e-02, -8.3160e-02],\n",
              "                        [ 2.8860e-02, -9.8687e-03,  6.0300e-02,  4.3419e-02, -4.2377e-02]],\n",
              "              \n",
              "                       [[-1.7812e-03, -5.9944e-03,  5.3612e-03,  3.9552e-02,  3.0642e-02],\n",
              "                        [-1.5848e-02, -1.8992e-02, -1.7896e-02,  3.5429e-02,  3.9326e-02],\n",
              "                        [ 2.7538e-02,  1.9945e-03, -2.6339e-02,  2.5340e-03,  4.4378e-02],\n",
              "                        [ 1.2517e-02,  2.6190e-02, -8.1673e-03, -1.0660e-02,  2.5051e-02],\n",
              "                        [-6.8351e-03, -1.5166e-02, -2.8924e-03, -1.8860e-02, -6.9087e-04]]],\n",
              "              \n",
              "              \n",
              "                      [[[ 5.9156e-03, -2.1277e-02, -2.2320e-02, -6.5510e-03,  4.7869e-03],\n",
              "                        [-2.4171e-02, -3.8919e-02, -3.9175e-02, -2.4891e-02, -1.9173e-02],\n",
              "                        [-5.6664e-03, -3.8304e-02, -6.0700e-02, -3.7271e-02, -1.9648e-02],\n",
              "                        [-1.6343e-02, -4.1455e-02, -4.7557e-02, -1.9968e-02, -2.5607e-02],\n",
              "                        [-1.9193e-03,  6.0476e-03, -9.8189e-04,  8.1145e-03,  6.5740e-03]],\n",
              "              \n",
              "                       [[ 1.3294e-02,  2.0003e-02,  6.4760e-03, -1.8015e-02,  1.2903e-02],\n",
              "                        [-1.6319e-02, -2.6848e-02, -3.0278e-02, -2.8669e-02, -1.8575e-02],\n",
              "                        [-3.2573e-02, -3.8713e-02,  5.3303e-03, -2.7119e-02, -2.7624e-03],\n",
              "                        [-1.2791e-02, -2.6519e-02,  1.3330e-02, -5.1205e-03, -6.5870e-03],\n",
              "                        [ 4.6117e-03,  1.1348e-02,  4.2922e-02,  1.0005e-02,  8.8237e-03]],\n",
              "              \n",
              "                       [[-1.3662e-02,  7.2477e-03,  3.2383e-03, -1.3158e-02,  2.0707e-02],\n",
              "                        [-2.7466e-02, -1.1653e-02, -3.8554e-02, -2.6137e-02, -1.2845e-02],\n",
              "                        [-1.7826e-02,  1.2461e-02,  1.2217e-03, -7.4924e-03,  6.3350e-03],\n",
              "                        [-4.7855e-03, -4.6789e-03,  2.1869e-03,  9.4562e-03,  8.8903e-03],\n",
              "                        [ 1.3585e-02, -1.1826e-02,  1.3619e-02,  8.5428e-03, -9.9256e-03]],\n",
              "              \n",
              "                       ...,\n",
              "              \n",
              "                       [[-1.7904e-02, -4.2041e-02, -2.4514e-02, -2.7140e-02, -4.1367e-03],\n",
              "                        [-6.3711e-02, -6.2324e-02, -5.3593e-02, -6.4125e-02, -4.4026e-02],\n",
              "                        [ 2.5913e-02,  3.0081e-02,  4.5409e-02,  2.1638e-02,  3.3682e-02],\n",
              "                        [ 2.2135e-02,  2.3161e-02,  6.1181e-02,  2.0773e-02,  2.7272e-02],\n",
              "                        [-1.0233e-03, -1.9533e-03,  1.1555e-02,  1.4456e-02,  1.4249e-02]],\n",
              "              \n",
              "                       [[ 1.3827e-02,  1.1648e-02,  6.4608e-02,  1.2882e-02,  3.1017e-02],\n",
              "                        [-1.2444e-03,  5.6319e-02,  1.2848e-01,  5.9830e-02,  3.3460e-02],\n",
              "                        [ 4.3705e-03,  4.6172e-02,  1.3131e-01,  5.9318e-02,  2.8966e-02],\n",
              "                        [ 2.5420e-02,  3.7463e-02,  1.2880e-01,  2.5223e-02, -2.5169e-02],\n",
              "                        [-2.6930e-02, -2.4265e-02, -1.7906e-02, -2.5078e-02, -1.0878e-02]],\n",
              "              \n",
              "                       [[ 6.4988e-02,  2.0802e-02, -7.0113e-03, -1.0487e-02, -8.0303e-03],\n",
              "                        [ 3.4017e-02, -6.8423e-03, -5.5677e-02, -3.7280e-02, -1.7297e-02],\n",
              "                        [-4.7333e-03, -3.9463e-02, -8.0851e-02, -5.0628e-02, -1.2242e-02],\n",
              "                        [-5.8851e-04, -3.9665e-02, -6.6801e-02, -3.6685e-02,  2.7422e-03],\n",
              "                        [ 5.8698e-02,  1.5392e-02, -1.9419e-02,  1.5330e-02,  2.6442e-02]]]],\n",
              "                     device='cuda:0')),\n",
              "             ('features.3.bias',\n",
              "              tensor([-1.1529e-01, -1.9596e-01, -5.3339e-02, -6.8773e-02, -3.9788e-02,\n",
              "                       1.7249e-01, -1.8755e-01,  1.1293e-01, -2.8548e-02, -2.9055e-02,\n",
              "                       1.3955e-01, -3.4610e-01, -1.6653e-01,  1.3347e-01,  1.3719e-04,\n",
              "                      -5.9767e-02, -1.3230e-02,  2.0871e-01,  3.3813e-01,  8.0230e-02,\n",
              "                       5.0773e-01, -5.3120e-02, -1.0513e-01,  1.5679e-02, -5.8794e-02,\n",
              "                       4.7077e-02,  1.4558e-02, -5.0742e-03, -1.8264e-01, -9.5927e-03,\n",
              "                      -1.4300e-01, -1.5323e-01,  2.9275e-03, -4.3208e-01,  1.0159e-01,\n",
              "                      -1.7252e-01, -7.1845e-02, -2.4990e-01,  2.4856e-01, -7.5022e-02,\n",
              "                       1.5392e-02, -2.5298e-02, -4.2485e-02,  3.7568e-02, -1.9695e-01,\n",
              "                       6.4202e-02, -6.2107e-02,  1.0883e-01, -5.5955e-02, -1.6800e-01,\n",
              "                      -1.3941e-01,  5.7952e-02,  4.8161e-02,  9.2001e-02,  1.9611e-03,\n",
              "                       1.3401e-01, -1.3354e-01,  2.4402e-01,  1.4362e-01,  4.9328e-01,\n",
              "                      -1.2643e-01, -1.6932e-01,  1.6430e-01,  2.3032e-01,  1.0184e-01,\n",
              "                       2.3589e-02, -1.9124e-01, -1.0050e-01,  2.3405e-01, -2.5125e-01,\n",
              "                       1.0671e-01, -2.5970e-01, -5.8497e-02, -2.7398e-02, -3.5369e-01,\n",
              "                       4.1828e-02, -2.3674e-01,  1.9453e-01,  1.5943e-01,  2.9827e-01,\n",
              "                      -1.5277e-01,  5.7044e-03, -1.7812e-01, -7.7710e-02, -1.3757e-01,\n",
              "                       7.1021e-02, -9.4409e-02, -1.0359e-01, -1.7907e-01,  5.8809e-02,\n",
              "                       1.0432e-01, -1.6572e-02, -1.7495e-01, -8.9125e-03, -1.1776e-01,\n",
              "                      -2.0189e-01, -5.3087e-02, -7.6544e-02, -1.4691e-01,  1.8806e-02,\n",
              "                       2.9883e-02, -2.2442e-01, -1.4255e-01, -9.0778e-02, -7.3624e-02,\n",
              "                      -8.2358e-02, -4.3523e-02,  3.7502e-01, -1.8313e-01,  6.1975e-02,\n",
              "                      -4.9882e-01, -2.3062e-01, -6.8620e-02, -1.1318e-01, -4.8710e-02,\n",
              "                       8.6113e-02, -1.5476e-01, -1.9199e-01, -4.4038e-02, -3.1587e-01,\n",
              "                      -1.4444e-01,  1.4125e-01,  2.9340e-01,  2.8356e-01, -4.7031e-02,\n",
              "                       3.7832e-01,  8.6789e-02, -2.0246e-02,  2.1168e-01,  5.0799e-01,\n",
              "                       1.4402e-01, -1.5715e-01,  2.1851e-01,  2.3975e-01,  1.4744e-01,\n",
              "                      -8.5575e-02, -4.1480e-02, -1.4401e-01,  1.0645e-01,  3.9731e-01,\n",
              "                      -4.1639e-02, -1.9961e-01,  3.1275e-01, -4.9108e-02,  3.3051e-01,\n",
              "                       1.5871e-02, -4.3508e-01, -2.0340e-01,  4.6532e-02,  2.0278e-02,\n",
              "                       4.0622e-02,  1.4123e-01, -1.6580e-01, -1.8230e-01,  5.0210e-01,\n",
              "                      -1.6235e-01,  1.3447e-01, -3.3683e-02, -3.6258e-02, -3.1813e-01,\n",
              "                       3.0982e-01, -8.0593e-02,  1.5632e-01, -4.0602e-02,  1.7478e-01,\n",
              "                       2.1555e-01,  1.0948e-01, -1.6267e-01, -1.7044e-01, -2.9081e-02,\n",
              "                      -7.6849e-02,  4.8682e-01,  1.7589e-01,  1.8383e-01, -9.5610e-02,\n",
              "                       1.5737e-01,  5.5026e-02, -1.4554e-01, -9.0037e-02, -4.9132e-02,\n",
              "                      -2.4481e-01, -8.6616e-02, -1.0912e-01,  1.3870e-01,  2.8948e-03,\n",
              "                       2.9560e-01,  1.0297e-01,  1.2032e-01, -1.5076e-01,  6.8421e-02,\n",
              "                       1.5757e-02,  7.3772e-02], device='cuda:0')),\n",
              "             ('features.6.weight', tensor([[[[ 0.0104, -0.0112,  0.0101],\n",
              "                        [ 0.0404,  0.0739,  0.0391],\n",
              "                        [-0.0260,  0.0348,  0.0245]],\n",
              "              \n",
              "                       [[-0.0275, -0.1031, -0.0909],\n",
              "                        [ 0.0161, -0.0634, -0.0308],\n",
              "                        [ 0.0511, -0.0463,  0.0004]],\n",
              "              \n",
              "                       [[ 0.0024, -0.0371, -0.0018],\n",
              "                        [ 0.0532, -0.0196,  0.0433],\n",
              "                        [ 0.0202, -0.0526, -0.0137]],\n",
              "              \n",
              "                       ...,\n",
              "              \n",
              "                       [[ 0.0103,  0.0281,  0.0385],\n",
              "                        [-0.0089, -0.0328,  0.0050],\n",
              "                        [ 0.0116, -0.0260, -0.0332]],\n",
              "              \n",
              "                       [[ 0.0290, -0.0181, -0.0521],\n",
              "                        [ 0.0161, -0.0157, -0.0254],\n",
              "                        [ 0.0104,  0.0268,  0.0124]],\n",
              "              \n",
              "                       [[ 0.0325,  0.0054, -0.0035],\n",
              "                        [-0.0071, -0.0171, -0.0136],\n",
              "                        [-0.0156, -0.0243,  0.0095]]],\n",
              "              \n",
              "              \n",
              "                      [[[ 0.0158, -0.0532,  0.0256],\n",
              "                        [ 0.0664, -0.0008,  0.0136],\n",
              "                        [-0.0142, -0.0414, -0.0329]],\n",
              "              \n",
              "                       [[-0.0092,  0.0115,  0.0086],\n",
              "                        [ 0.0005, -0.0262, -0.0361],\n",
              "                        [ 0.0471, -0.0487, -0.0277]],\n",
              "              \n",
              "                       [[ 0.0209,  0.0179, -0.0197],\n",
              "                        [-0.0043, -0.0026, -0.0452],\n",
              "                        [-0.0385, -0.0929, -0.0699]],\n",
              "              \n",
              "                       ...,\n",
              "              \n",
              "                       [[-0.0060,  0.0258,  0.0218],\n",
              "                        [-0.0279,  0.0949, -0.0013],\n",
              "                        [ 0.0183,  0.0707, -0.0045]],\n",
              "              \n",
              "                       [[-0.0206,  0.0072,  0.0291],\n",
              "                        [-0.0174, -0.0016,  0.0322],\n",
              "                        [ 0.0318, -0.0200, -0.0051]],\n",
              "              \n",
              "                       [[ 0.0520,  0.0565,  0.0576],\n",
              "                        [-0.0173, -0.0293, -0.0195],\n",
              "                        [-0.0033, -0.0224, -0.0149]]],\n",
              "              \n",
              "              \n",
              "                      [[[-0.0038, -0.0235, -0.0294],\n",
              "                        [ 0.0119,  0.0551,  0.0433],\n",
              "                        [-0.0099,  0.0880,  0.0179]],\n",
              "              \n",
              "                       [[-0.0196, -0.0321,  0.0099],\n",
              "                        [-0.0356,  0.0325,  0.0513],\n",
              "                        [-0.0525, -0.0039,  0.0233]],\n",
              "              \n",
              "                       [[ 0.0062, -0.0132, -0.0293],\n",
              "                        [ 0.0148, -0.0136, -0.0831],\n",
              "                        [-0.0274, -0.0441, -0.0387]],\n",
              "              \n",
              "                       ...,\n",
              "              \n",
              "                       [[-0.0116, -0.0210, -0.0090],\n",
              "                        [-0.0472, -0.0122, -0.0205],\n",
              "                        [-0.0305,  0.0186,  0.0357]],\n",
              "              \n",
              "                       [[ 0.0100,  0.0380,  0.0499],\n",
              "                        [-0.0301,  0.0173,  0.0655],\n",
              "                        [-0.0144, -0.0179,  0.0035]],\n",
              "              \n",
              "                       [[-0.0034,  0.0159,  0.0068],\n",
              "                        [ 0.0056,  0.0052, -0.0027],\n",
              "                        [-0.0018, -0.0004, -0.0070]]],\n",
              "              \n",
              "              \n",
              "                      ...,\n",
              "              \n",
              "              \n",
              "                      [[[-0.0353,  0.0161, -0.0156],\n",
              "                        [-0.0338, -0.0248,  0.0150],\n",
              "                        [-0.0182, -0.0535,  0.0013]],\n",
              "              \n",
              "                       [[-0.0435, -0.0182, -0.0290],\n",
              "                        [ 0.0055,  0.0054, -0.0619],\n",
              "                        [-0.0542, -0.0443, -0.0325]],\n",
              "              \n",
              "                       [[ 0.0007,  0.0243,  0.0308],\n",
              "                        [ 0.0176,  0.0134,  0.0109],\n",
              "                        [ 0.0387, -0.0048, -0.0002]],\n",
              "              \n",
              "                       ...,\n",
              "              \n",
              "                       [[-0.0369,  0.0243,  0.0200],\n",
              "                        [ 0.0438, -0.0427, -0.0088],\n",
              "                        [ 0.0010, -0.0633,  0.0017]],\n",
              "              \n",
              "                       [[ 0.0022,  0.0113, -0.0284],\n",
              "                        [ 0.0042,  0.0565, -0.0346],\n",
              "                        [ 0.0457,  0.0156, -0.0393]],\n",
              "              \n",
              "                       [[-0.0156, -0.0157, -0.0139],\n",
              "                        [-0.0222,  0.0035, -0.0071],\n",
              "                        [-0.0111,  0.0193,  0.0237]]],\n",
              "              \n",
              "              \n",
              "                      [[[ 0.0284,  0.0685,  0.0304],\n",
              "                        [-0.0007, -0.0773, -0.0622],\n",
              "                        [ 0.0664,  0.0290,  0.0834]],\n",
              "              \n",
              "                       [[ 0.0296, -0.0345,  0.0952],\n",
              "                        [-0.0302, -0.0123,  0.0037],\n",
              "                        [-0.0347, -0.0028, -0.0200]],\n",
              "              \n",
              "                       [[ 0.0050, -0.0196,  0.0123],\n",
              "                        [ 0.0627,  0.0094, -0.0056],\n",
              "                        [ 0.0022, -0.0585, -0.0641]],\n",
              "              \n",
              "                       ...,\n",
              "              \n",
              "                       [[ 0.0590, -0.0172,  0.0422],\n",
              "                        [-0.0096,  0.0016,  0.0503],\n",
              "                        [-0.0415, -0.0208,  0.0423]],\n",
              "              \n",
              "                       [[-0.0052,  0.0140,  0.0251],\n",
              "                        [ 0.0141,  0.0437,  0.0075],\n",
              "                        [-0.0109, -0.0099, -0.0382]],\n",
              "              \n",
              "                       [[-0.0302, -0.0216, -0.0268],\n",
              "                        [-0.0365, -0.0032, -0.0109],\n",
              "                        [-0.0148, -0.0093,  0.0001]]],\n",
              "              \n",
              "              \n",
              "                      [[[-0.0245, -0.0554, -0.0725],\n",
              "                        [ 0.0059,  0.0290, -0.0374],\n",
              "                        [ 0.0284,  0.0325,  0.0142]],\n",
              "              \n",
              "                       [[ 0.0162, -0.0317, -0.0067],\n",
              "                        [ 0.0169,  0.0003, -0.0012],\n",
              "                        [ 0.0553,  0.0191, -0.0071]],\n",
              "              \n",
              "                       [[ 0.0119,  0.0048,  0.0658],\n",
              "                        [ 0.0146, -0.0414,  0.0979],\n",
              "                        [ 0.0137, -0.0424, -0.0661]],\n",
              "              \n",
              "                       ...,\n",
              "              \n",
              "                       [[-0.0072,  0.0150, -0.0097],\n",
              "                        [-0.0142, -0.0054,  0.0027],\n",
              "                        [-0.0489, -0.0361, -0.0178]],\n",
              "              \n",
              "                       [[ 0.0511, -0.0015, -0.0038],\n",
              "                        [-0.0137, -0.0413, -0.0172],\n",
              "                        [-0.0266, -0.0407, -0.0322]],\n",
              "              \n",
              "                       [[-0.0265,  0.0124, -0.0151],\n",
              "                        [-0.0581, -0.0588, -0.0476],\n",
              "                        [-0.0419, -0.0672, -0.0587]]]], device='cuda:0')),\n",
              "             ('features.6.bias',\n",
              "              tensor([ 2.9895e-02,  1.2396e-01, -3.3270e-01,  1.0341e-01, -1.2772e-01,\n",
              "                      -5.9602e-02,  1.1005e-01, -1.0874e-01,  2.6109e-02, -2.0733e-02,\n",
              "                      -6.0002e-02,  9.6708e-02, -4.6850e-02,  3.6191e-02, -1.2442e-01,\n",
              "                      -1.4092e-01, -1.7489e-02, -1.0968e-02, -7.5575e-02, -4.4277e-02,\n",
              "                      -1.3531e-01,  2.3446e-01, -8.3397e-02,  1.9641e-02, -1.6023e-02,\n",
              "                       1.3804e-01,  2.5764e-01, -3.2147e-02,  7.4776e-02,  2.0871e-01,\n",
              "                       6.1948e-02, -1.6247e-02,  7.7741e-02,  9.0259e-03,  8.2860e-03,\n",
              "                      -7.8294e-02,  9.6111e-02,  7.8458e-02, -1.0448e-01,  1.5350e-02,\n",
              "                       2.6816e-02,  2.0237e-01,  7.3154e-02,  9.5490e-02, -1.5742e-01,\n",
              "                       4.6339e-02,  5.6829e-02,  1.6644e-01,  4.5052e-02, -3.1412e-01,\n",
              "                      -2.0453e-01, -3.5222e-02, -2.3722e-01,  5.3769e-02, -4.6467e-02,\n",
              "                      -2.3535e-01, -2.4094e-01, -1.1464e-01, -4.9410e-02,  2.2597e-02,\n",
              "                       8.2512e-02, -8.6809e-03,  9.8809e-02,  2.3464e-01,  1.3954e-01,\n",
              "                      -8.9868e-02, -1.8654e-02,  2.8184e-03,  1.2856e-02, -1.5512e-01,\n",
              "                      -5.0493e-02, -8.9529e-02,  3.9375e-01, -3.7335e-02, -3.9810e-02,\n",
              "                       1.9583e-02,  3.0278e-01,  1.1973e-01,  1.3369e-01,  1.1597e-01,\n",
              "                      -3.9094e-02,  9.8492e-02, -8.7859e-02, -7.2124e-02,  1.0101e-01,\n",
              "                       3.2506e-01,  2.2029e-01,  3.1686e-01, -1.1217e-02,  1.3385e-01,\n",
              "                      -7.6988e-02,  1.3524e-01, -6.3638e-02, -8.8950e-02,  3.1672e-02,\n",
              "                      -1.9422e-01, -2.1234e-02, -1.9088e-01,  2.0819e-01,  6.8672e-02,\n",
              "                      -2.0602e-02,  1.2617e-01,  1.9432e-01,  3.5314e-01, -5.1019e-02,\n",
              "                      -1.6266e-02,  1.1910e-01, -7.0049e-02, -1.5882e-01,  2.8397e-03,\n",
              "                      -3.2297e-01,  8.6423e-02, -8.3511e-02, -5.9584e-02, -9.6339e-02,\n",
              "                       5.5826e-02, -3.3789e-02,  1.5306e-01, -7.0402e-02, -6.8964e-02,\n",
              "                      -4.5133e-02,  2.0197e-01,  5.5664e-01, -8.0787e-02, -1.3580e-02,\n",
              "                       8.7240e-02, -1.8081e-02, -2.9837e-02,  9.4630e-02,  4.0929e-03,\n",
              "                       5.3751e-01,  2.6689e-01,  1.3714e-01,  2.2815e-01, -1.2929e-01,\n",
              "                       2.1191e-02, -3.5142e-02, -1.9521e-01, -5.0211e-02, -2.9711e-02,\n",
              "                       4.3908e-02, -6.0059e-02, -1.8065e-01, -3.6359e-01, -1.0474e-02,\n",
              "                      -2.3728e-01,  5.4681e-02,  3.5694e-01, -2.3569e-01, -1.1814e-01,\n",
              "                       2.2920e-02, -1.0152e-01, -1.7204e-01, -1.3070e-02, -2.6516e-01,\n",
              "                       4.5827e-02,  8.7745e-02, -2.1222e-02,  1.2431e-01,  3.1213e-02,\n",
              "                       3.3824e-02, -1.4225e-02, -1.0098e-01, -3.4315e-02,  2.6855e-02,\n",
              "                       5.3066e-02,  1.3161e-01,  1.4997e-01,  2.7223e-02,  2.5396e-02,\n",
              "                       3.8467e-01,  7.1462e-03, -2.7838e-02, -1.0662e-01,  1.6955e-01,\n",
              "                       4.2307e-02,  1.6266e-01, -1.7889e-02,  2.4575e-01, -1.6526e-02,\n",
              "                       2.3153e-02, -3.6049e-02,  1.1929e-01, -3.1294e-02, -5.1444e-02,\n",
              "                       2.1247e-01, -1.4513e-01, -1.6402e-01, -2.7860e-02, -1.4874e-01,\n",
              "                      -1.8967e-01,  6.0135e-02,  1.0447e-01, -1.2650e-01, -6.9027e-02,\n",
              "                      -1.5981e-01, -2.7294e-02,  1.1108e-01, -9.9130e-02,  1.1598e-01,\n",
              "                       1.7774e-01,  1.5651e-01,  5.5519e-02, -3.2305e-02,  2.5893e-01,\n",
              "                       1.4549e-01,  3.2072e-03,  2.1738e-01,  4.0596e-01,  3.1412e-01,\n",
              "                      -9.4953e-02, -8.1494e-02,  5.5155e-02, -8.4886e-02,  2.9898e-01,\n",
              "                      -1.1512e-01,  2.0190e-02, -1.7039e-01, -9.1615e-02,  8.5386e-02,\n",
              "                      -1.1678e-02, -1.4186e-02,  2.6763e-02, -1.6580e-01,  8.3881e-02,\n",
              "                      -2.2557e-02,  9.1035e-02, -1.3979e-01,  4.4652e-02,  6.6145e-02,\n",
              "                      -4.5804e-02, -3.4412e-02,  2.8104e-01, -1.8539e-01,  4.2672e-02,\n",
              "                       8.6323e-02, -1.2633e-01,  1.2786e-01,  4.3505e-03, -1.0065e-04,\n",
              "                       7.3671e-02,  1.5049e-01, -7.8903e-02, -4.9172e-02, -1.7373e-01,\n",
              "                       1.0372e-01,  2.5001e-02,  1.5316e-02,  2.5696e-01,  2.1684e-01,\n",
              "                       1.1843e-01,  1.4455e-01,  9.7924e-02, -2.7923e-02,  2.5365e-02,\n",
              "                      -1.6379e-01,  2.5555e-01, -3.7660e-02,  5.9449e-02,  9.2551e-02,\n",
              "                      -3.3540e-02, -1.1788e-01,  1.4490e-01,  7.8576e-02, -1.6889e-01,\n",
              "                       1.8056e-01, -7.1314e-02,  2.8656e-02,  2.0235e-02, -1.1022e-01,\n",
              "                       8.3675e-02,  2.0663e-02, -1.6967e-01,  2.4173e-01,  2.2308e-01,\n",
              "                      -2.3199e-02,  2.2560e-01, -1.2526e-01, -1.7432e-01, -3.9965e-02,\n",
              "                      -6.0527e-02,  7.6901e-02,  1.9836e-01,  1.3944e-03,  1.1288e-01,\n",
              "                      -2.0678e-01,  8.3727e-02,  2.0540e-01,  3.7468e-01,  1.2468e-01,\n",
              "                      -2.8548e-02, -8.3305e-02, -2.0063e-02,  1.3241e-01, -5.5009e-02,\n",
              "                       2.8795e-01, -3.8032e-03, -4.8072e-03,  2.1910e-01,  1.5000e-01,\n",
              "                      -2.3933e-02, -9.6938e-02, -1.0302e-01, -5.6054e-03, -1.5718e-01,\n",
              "                      -6.3871e-02,  1.8861e-04, -3.5129e-01,  1.6474e-01,  1.6823e-01,\n",
              "                       2.0802e-01, -6.8850e-02,  5.7132e-02, -2.5801e-01,  1.2507e-01,\n",
              "                      -5.0339e-02, -6.6245e-02,  3.1154e-02,  1.4731e-01, -3.7148e-02,\n",
              "                       1.2461e-01, -1.6002e-01,  5.1051e-01, -5.5164e-02, -7.9361e-02,\n",
              "                       3.9716e-02, -1.4978e-01, -4.3698e-01,  3.8613e-01,  8.9446e-02,\n",
              "                       5.5588e-02,  4.9908e-02,  4.4396e-02,  2.6218e-02,  1.9560e-01,\n",
              "                       1.0532e-01, -1.2185e-01, -3.0519e-02,  3.6086e-01,  2.1430e-02,\n",
              "                       1.2429e-01, -1.3142e-01,  2.8122e-02, -1.2158e-01, -3.2643e-02,\n",
              "                       2.5423e-02,  2.2308e-02,  1.0195e-01,  1.0816e-01,  1.9122e-03,\n",
              "                      -1.2318e-01,  9.5753e-02, -1.1182e-02,  8.8485e-02,  4.7333e-02,\n",
              "                       6.7435e-02,  3.6555e-02,  4.2219e-02, -9.6122e-02,  1.3696e-01,\n",
              "                       1.9552e-01, -4.6989e-02,  2.8950e-02,  3.6001e-02, -2.1006e-01,\n",
              "                      -8.7105e-02, -7.2374e-02, -1.3193e-02,  1.0351e-01, -1.1799e-01,\n",
              "                      -4.7561e-02,  1.2423e-02,  1.2067e-01,  1.1544e-01, -9.2888e-02,\n",
              "                       5.1922e-01, -6.2954e-03,  4.8257e-02,  6.3607e-02,  1.1188e-01,\n",
              "                       1.7436e-02, -2.6791e-02,  4.9304e-04, -1.1517e-02], device='cuda:0')),\n",
              "             ('features.8.weight',\n",
              "              tensor([[[[ 1.2301e-02, -8.4474e-03, -9.0646e-03],\n",
              "                        [ 1.5774e-02,  3.0196e-02,  3.9143e-02],\n",
              "                        [-3.2554e-02,  1.8275e-02, -2.1175e-02]],\n",
              "              \n",
              "                       [[ 4.7764e-02,  2.0858e-02,  3.2381e-02],\n",
              "                        [-4.4047e-02, -1.5972e-02, -3.7830e-02],\n",
              "                        [-5.9185e-03,  7.4180e-03,  1.8503e-03]],\n",
              "              \n",
              "                       [[-7.5932e-02, -5.3412e-02,  5.9366e-03],\n",
              "                        [-4.9194e-02, -5.8673e-02, -2.5513e-02],\n",
              "                        [-4.4888e-02, -6.2114e-02,  1.5236e-02]],\n",
              "              \n",
              "                       ...,\n",
              "              \n",
              "                       [[-5.0706e-03, -3.5175e-02,  1.1672e-02],\n",
              "                        [-5.1621e-02, -1.8000e-02, -3.0023e-02],\n",
              "                        [-5.1957e-02, -2.8343e-02, -3.3150e-02]],\n",
              "              \n",
              "                       [[ 2.3459e-02,  3.1569e-02, -3.4564e-02],\n",
              "                        [-4.0527e-02, -4.1727e-02, -5.8185e-02],\n",
              "                        [-1.1147e-02,  4.0142e-03, -3.0458e-02]],\n",
              "              \n",
              "                       [[-1.1470e-02,  9.9138e-03,  9.0877e-03],\n",
              "                        [ 1.6714e-02,  1.3956e-03, -1.3976e-02],\n",
              "                        [ 2.8629e-02,  3.3910e-02,  1.0841e-02]]],\n",
              "              \n",
              "              \n",
              "                      [[[ 2.0014e-02,  4.7108e-02,  8.8662e-02],\n",
              "                        [ 6.5667e-03,  6.3558e-02,  4.3215e-02],\n",
              "                        [-3.0434e-02,  4.4384e-02,  1.5571e-02]],\n",
              "              \n",
              "                       [[-1.8558e-02, -1.7822e-02, -7.2546e-03],\n",
              "                        [ 3.4672e-02,  1.1361e-02,  3.8421e-02],\n",
              "                        [-4.3027e-02,  1.6036e-02, -3.9519e-03]],\n",
              "              \n",
              "                       [[-4.1770e-03,  2.0780e-02,  4.4567e-03],\n",
              "                        [-9.2888e-03, -2.2704e-02, -2.9192e-02],\n",
              "                        [-5.3578e-02, -1.2929e-02, -3.8074e-02]],\n",
              "              \n",
              "                       ...,\n",
              "              \n",
              "                       [[-9.0377e-03, -1.2051e-02, -3.0436e-02],\n",
              "                        [ 2.2530e-02,  2.8298e-02, -9.1394e-03],\n",
              "                        [ 8.6257e-03, -1.0742e-02,  1.9753e-02]],\n",
              "              \n",
              "                       [[ 4.4064e-02,  5.5495e-02,  2.2525e-02],\n",
              "                        [ 2.4055e-02, -1.1799e-02, -1.6761e-02],\n",
              "                        [ 3.3614e-02,  1.9284e-02,  3.3297e-02]],\n",
              "              \n",
              "                       [[-2.5982e-04,  7.5842e-03, -1.2809e-02],\n",
              "                        [-1.3987e-03, -2.5197e-02,  4.1503e-03],\n",
              "                        [-8.7103e-03,  3.4594e-04,  1.3145e-03]]],\n",
              "              \n",
              "              \n",
              "                      [[[-4.0689e-02, -3.5542e-02, -2.0496e-02],\n",
              "                        [-2.7137e-02, -2.5749e-02,  6.0808e-03],\n",
              "                        [ 3.0412e-02, -1.0395e-02,  2.7240e-02]],\n",
              "              \n",
              "                       [[ 4.7914e-04,  3.0766e-03,  1.3133e-02],\n",
              "                        [ 1.6101e-02,  1.1799e-02,  2.8729e-02],\n",
              "                        [-1.9000e-02, -9.0062e-03,  8.7315e-03]],\n",
              "              \n",
              "                       [[-3.4338e-03, -3.0004e-02, -9.4708e-03],\n",
              "                        [-2.0324e-02, -2.7722e-02,  1.7870e-02],\n",
              "                        [-3.0334e-03, -4.1193e-03,  6.0433e-02]],\n",
              "              \n",
              "                       ...,\n",
              "              \n",
              "                       [[-4.3554e-02, -2.0499e-02,  3.8939e-02],\n",
              "                        [ 2.2292e-02,  2.9241e-03,  5.3303e-03],\n",
              "                        [-1.2577e-02, -6.4578e-03, -4.2169e-02]],\n",
              "              \n",
              "                       [[ 1.0355e-02,  1.6289e-02, -7.9647e-03],\n",
              "                        [ 3.6797e-03, -1.5438e-02, -5.4946e-02],\n",
              "                        [-2.7859e-02,  4.4351e-02, -1.1280e-02]],\n",
              "              \n",
              "                       [[-3.1825e-02,  2.2978e-02, -2.1226e-02],\n",
              "                        [ 2.9990e-03,  6.8656e-03, -8.7777e-03],\n",
              "                        [ 7.2163e-02,  5.7707e-02,  6.1376e-02]]],\n",
              "              \n",
              "              \n",
              "                      ...,\n",
              "              \n",
              "              \n",
              "                      [[[ 3.1923e-02,  2.3938e-02, -7.0409e-03],\n",
              "                        [-6.1935e-03, -3.6276e-02, -6.3956e-02],\n",
              "                        [ 2.8879e-03, -1.7998e-02, -3.8946e-02]],\n",
              "              \n",
              "                       [[ 5.9844e-03,  2.2203e-02,  2.2205e-02],\n",
              "                        [ 3.9815e-02,  5.5980e-02,  4.5677e-02],\n",
              "                        [ 1.2138e-02,  2.3258e-02, -1.6158e-03]],\n",
              "              \n",
              "                       [[-2.0975e-02, -1.9623e-02, -4.1424e-03],\n",
              "                        [ 2.0445e-02,  3.1032e-03,  8.5333e-03],\n",
              "                        [ 2.8899e-02,  1.0528e-02, -1.2935e-02]],\n",
              "              \n",
              "                       ...,\n",
              "              \n",
              "                       [[ 4.7435e-02,  3.0656e-02,  1.4176e-02],\n",
              "                        [ 1.0173e-02, -2.2989e-03, -1.7685e-02],\n",
              "                        [-2.6782e-02, -3.3452e-02, -1.3004e-02]],\n",
              "              \n",
              "                       [[ 2.3964e-02, -1.0063e-02,  8.1640e-03],\n",
              "                        [ 1.5378e-02,  2.9297e-02, -2.8142e-02],\n",
              "                        [-1.0118e-02,  3.4493e-02, -3.9310e-02]],\n",
              "              \n",
              "                       [[-4.4049e-02, -4.1783e-02, -3.4951e-02],\n",
              "                        [-9.8330e-03, -1.5189e-02, -1.6600e-02],\n",
              "                        [-2.1578e-02, -2.3389e-02, -4.9007e-02]]],\n",
              "              \n",
              "              \n",
              "                      [[[ 2.2691e-02, -3.1537e-02,  1.9319e-02],\n",
              "                        [ 2.5422e-03,  1.3549e-02,  3.6467e-02],\n",
              "                        [ 4.5012e-02,  9.9538e-02,  5.9063e-02]],\n",
              "              \n",
              "                       [[ 2.1990e-02,  3.6534e-02,  3.8701e-03],\n",
              "                        [ 5.3528e-02,  3.0148e-02,  3.9611e-02],\n",
              "                        [-4.0841e-02,  3.6354e-02,  1.0007e-02]],\n",
              "              \n",
              "                       [[ 4.9230e-02,  3.4248e-02,  1.1672e-03],\n",
              "                        [-4.8235e-03, -3.1662e-02, -8.9758e-03],\n",
              "                        [-2.0246e-02, -3.6667e-02, -4.9681e-02]],\n",
              "              \n",
              "                       ...,\n",
              "              \n",
              "                       [[-8.1323e-03, -1.8509e-02, -6.5429e-03],\n",
              "                        [ 3.2901e-04, -1.0280e-02, -2.4618e-02],\n",
              "                        [ 1.0633e-02,  3.9903e-02, -5.8388e-03]],\n",
              "              \n",
              "                       [[ 3.9130e-02,  5.2406e-02,  3.8383e-02],\n",
              "                        [ 4.6791e-02,  2.8454e-02, -1.3199e-02],\n",
              "                        [ 3.8728e-02, -4.9755e-02, -4.5882e-02]],\n",
              "              \n",
              "                       [[ 3.6730e-03,  1.2771e-02, -1.9089e-02],\n",
              "                        [-2.7441e-03, -2.8492e-02, -3.1284e-02],\n",
              "                        [-2.2210e-02, -6.8014e-02,  1.2414e-03]]],\n",
              "              \n",
              "              \n",
              "                      [[[-9.5411e-05,  5.8391e-02,  4.6377e-02],\n",
              "                        [ 1.2052e-02, -2.6951e-02, -6.0805e-03],\n",
              "                        [ 2.1920e-02,  7.8801e-03,  3.0215e-02]],\n",
              "              \n",
              "                       [[ 1.9900e-02,  3.8658e-02,  1.5430e-02],\n",
              "                        [-7.5503e-03,  2.0530e-02,  6.6505e-03],\n",
              "                        [-5.5359e-02, -2.6988e-02, -4.6356e-02]],\n",
              "              \n",
              "                       [[-5.3729e-02, -4.0536e-02,  2.1735e-02],\n",
              "                        [-7.3700e-02, -5.1755e-02,  2.7318e-02],\n",
              "                        [-4.8799e-02,  4.2520e-03,  6.6298e-02]],\n",
              "              \n",
              "                       ...,\n",
              "              \n",
              "                       [[-4.8515e-04,  1.0186e-02,  3.5683e-02],\n",
              "                        [ 8.1142e-03, -6.2486e-02, -1.4057e-02],\n",
              "                        [ 3.0458e-02,  1.2734e-02,  1.3909e-03]],\n",
              "              \n",
              "                       [[-4.4400e-02, -3.2852e-02,  7.6489e-03],\n",
              "                        [-3.4154e-02, -5.7812e-02, -2.4440e-02],\n",
              "                        [-3.5739e-02, -1.8971e-02, -4.2752e-04]],\n",
              "              \n",
              "                       [[-3.0697e-02, -1.7960e-02, -2.9414e-02],\n",
              "                        [-4.0938e-02,  3.9094e-02, -2.1829e-02],\n",
              "                        [-2.1922e-03,  7.2054e-02,  5.5809e-03]]]], device='cuda:0')),\n",
              "             ('features.8.bias',\n",
              "              tensor([-9.2085e-02,  1.1313e-01,  3.2211e-01,  1.1127e-01,  2.7888e-01,\n",
              "                       1.3188e-01,  2.0537e-01, -2.8885e-02,  5.4037e-01,  1.6240e-01,\n",
              "                      -1.3534e-01, -1.6957e-01,  2.8299e-01,  2.1945e-01,  2.7579e-01,\n",
              "                       2.6885e-01,  3.5323e-02, -1.5012e+00,  6.1553e-01,  7.7075e-02,\n",
              "                       9.6499e-02,  1.5027e-01, -3.0833e-01,  1.1965e-01,  1.9634e-01,\n",
              "                       5.4348e-02, -6.4846e-03, -2.2998e-01,  1.1012e-01,  4.9658e-01,\n",
              "                       4.4960e-02, -2.9851e-01, -5.3209e-01, -5.5903e-03, -1.2399e-01,\n",
              "                       1.4681e-01, -1.6402e-02,  1.3583e-01,  3.1684e-01, -1.8156e-01,\n",
              "                       3.3182e-01,  5.5069e-01,  2.6712e-01,  6.0576e-01,  6.4219e-02,\n",
              "                       5.8141e-02,  4.8815e-01,  4.5303e-01,  6.5140e-01, -1.1682e-01,\n",
              "                      -8.3662e-02,  2.5514e-01,  9.0419e-02, -2.5235e-01,  1.3676e-01,\n",
              "                       4.0788e-01,  2.7108e-01, -5.1264e-01, -8.5384e-02,  2.6081e-01,\n",
              "                       2.6043e-01,  3.2102e-01,  4.8290e-02, -8.7332e-02, -2.3629e-01,\n",
              "                      -6.6234e-02, -6.1764e-02, -1.6107e-01, -3.2585e-01,  3.2037e-01,\n",
              "                       2.3698e-01, -4.3950e-01, -6.2780e-02,  9.2607e-01, -1.6621e-01,\n",
              "                       5.3536e-01,  2.1081e-01,  2.1352e-01,  2.4074e-01, -3.9897e-01,\n",
              "                       2.4056e-01, -5.9045e-01, -6.9041e-01,  8.9950e-02,  3.4909e-01,\n",
              "                       2.8847e-01, -1.0675e-01, -1.5636e-01,  2.7486e-01, -1.6804e-01,\n",
              "                       3.7694e-02,  3.0644e-01,  9.7833e-03,  1.7587e-01,  1.6501e-01,\n",
              "                       1.3388e-02, -2.0117e-02, -1.0950e-01, -5.9545e-02,  1.7583e-01,\n",
              "                      -6.7245e-03, -2.9815e-02, -3.2355e-02,  1.6388e-02,  3.6278e-01,\n",
              "                       1.8850e-01, -2.0070e-01,  1.2333e-01,  3.0948e-02,  2.3388e-01,\n",
              "                      -1.5845e-01,  2.8507e-01, -3.5626e-01,  1.6856e-01, -3.4980e-03,\n",
              "                      -3.7972e-02, -2.6424e-01, -4.0678e-01,  7.2543e-01,  8.8937e-03,\n",
              "                       6.4767e-02,  1.6857e-01,  1.7161e-01,  3.1134e-02,  1.4200e-01,\n",
              "                      -9.3960e-02,  2.7456e-01,  3.0299e-01, -5.3141e-01,  9.0134e-02,\n",
              "                      -2.7192e-01, -3.2384e-01,  3.6689e-01,  5.0027e-02,  2.4271e-01,\n",
              "                       6.5108e-02,  1.1027e-01,  2.1174e-01,  2.8923e-01,  3.8742e-01,\n",
              "                      -1.5404e-01,  2.2016e-01,  9.8371e-04,  3.0568e-01,  5.9313e-01,\n",
              "                       4.4505e-01,  3.4486e-01,  1.4663e-01,  1.4712e-01,  2.3963e-01,\n",
              "                      -7.3671e-01,  2.4110e-01,  1.4257e-01,  8.7466e-02,  2.3962e-01,\n",
              "                      -2.7904e-01, -6.0170e-02,  1.9700e-01,  1.5930e-01, -7.1136e-02,\n",
              "                       4.8859e-01, -2.3056e-01, -3.3695e-01, -1.3167e+00,  1.2681e-01,\n",
              "                      -2.0038e-02,  3.4888e-01,  9.0427e-01, -6.4430e-02,  3.8726e-01,\n",
              "                      -1.6578e-01, -7.6762e-02,  2.6286e-01,  3.1031e-01, -5.4086e-01,\n",
              "                      -1.6133e-01,  2.8258e-02,  5.1722e-01,  2.2684e-01,  8.0734e-02,\n",
              "                       3.0006e-01, -5.4573e-02, -2.4096e-01, -6.7460e-02,  5.8126e-02,\n",
              "                      -8.7474e-02, -1.6406e-01,  1.7274e-01, -1.8657e-01, -1.2790e-01,\n",
              "                      -9.2658e-03,  8.2987e-01,  1.8957e-01,  3.0357e-01, -2.6713e-01,\n",
              "                       6.6514e-02,  9.8511e-02,  2.8219e-01,  7.0169e-02,  1.6050e-01,\n",
              "                      -7.1190e-01,  1.2438e-01,  1.8781e-01, -5.2272e-02, -2.7132e-01,\n",
              "                      -2.8805e-01,  1.8158e-01, -1.8454e-01, -9.3816e-02,  1.2164e-01,\n",
              "                       3.8993e-02,  1.0757e-01,  4.4550e-01,  1.4380e-01, -2.4968e-02,\n",
              "                       2.2595e-01,  5.8257e-02,  2.9606e-01,  9.3430e-02, -2.8073e-01,\n",
              "                       3.0126e-02, -2.1288e-01, -5.3251e-01,  1.9775e-01,  2.0263e-01,\n",
              "                       1.5050e-01,  2.8200e-02, -2.1746e-01,  7.2864e-01, -1.2179e-01,\n",
              "                       5.1371e-01,  2.8663e-01,  4.9063e-02, -8.7091e-01, -4.3389e-02,\n",
              "                       1.2494e-01, -2.1801e-01,  3.4887e-01,  3.9689e-01, -1.1635e-01,\n",
              "                       4.6463e-02,  6.3133e-02,  2.6985e-01,  3.4364e-01,  1.7271e-01,\n",
              "                      -3.0285e-02,  3.8806e-02, -2.6540e-01,  1.8199e-01,  5.9629e-01,\n",
              "                       7.2439e-02, -2.0554e-03,  3.1239e-01,  2.9048e-02,  2.6816e-01,\n",
              "                       1.3349e-01], device='cuda:0')),\n",
              "             ('features.10.weight',\n",
              "              tensor([[[[ 1.3973e-02, -3.4308e-04, -2.6771e-02],\n",
              "                        [-3.9308e-02, -4.9139e-02, -3.5072e-03],\n",
              "                        [ 4.7232e-03, -4.8901e-02, -6.3759e-02]],\n",
              "              \n",
              "                       [[ 1.2511e-02, -5.5054e-03, -2.0624e-02],\n",
              "                        [-5.0485e-03,  2.3329e-02,  3.4626e-02],\n",
              "                        [-1.0909e-02,  4.2226e-02, -2.2397e-02]],\n",
              "              \n",
              "                       [[-1.3432e-02, -9.4641e-03, -4.7299e-03],\n",
              "                        [ 2.8854e-02, -3.3332e-03,  5.5682e-03],\n",
              "                        [ 1.2759e-02, -1.3945e-02, -1.3309e-02]],\n",
              "              \n",
              "                       ...,\n",
              "              \n",
              "                       [[-3.0804e-02, -2.6361e-02, -6.4246e-03],\n",
              "                        [-1.1545e-02, -6.1301e-02, -2.3618e-02],\n",
              "                        [ 8.7455e-03, -1.2256e-02, -7.1406e-03]],\n",
              "              \n",
              "                       [[-2.3334e-02,  8.0562e-03, -4.6830e-02],\n",
              "                        [-5.9046e-02, -1.7955e-02, -5.4197e-02],\n",
              "                        [-2.2443e-02,  1.8313e-02, -2.0546e-02]],\n",
              "              \n",
              "                       [[ 2.0778e-02,  1.4288e-02,  9.6541e-03],\n",
              "                        [ 2.0480e-02, -9.1002e-04,  6.2132e-03],\n",
              "                        [-1.4299e-03, -2.9498e-02,  1.8417e-02]]],\n",
              "              \n",
              "              \n",
              "                      [[[-3.6095e-02, -2.1767e-02, -3.1671e-02],\n",
              "                        [-8.7706e-03, -9.4268e-03, -2.4169e-02],\n",
              "                        [-3.8766e-03, -2.3332e-02, -2.1065e-02]],\n",
              "              \n",
              "                       [[ 2.4145e-02,  7.5962e-03,  3.0656e-03],\n",
              "                        [ 1.0380e-01,  1.9771e-02,  1.7963e-02],\n",
              "                        [ 3.4736e-02,  6.0957e-02,  1.7980e-02]],\n",
              "              \n",
              "                       [[-4.9412e-03, -3.8088e-02, -3.8466e-02],\n",
              "                        [-3.4788e-02, -4.8999e-03, -1.0049e-02],\n",
              "                        [-3.3530e-02, -6.7354e-03, -3.9038e-03]],\n",
              "              \n",
              "                       ...,\n",
              "              \n",
              "                       [[-7.8701e-02, -8.8047e-02, -7.8769e-02],\n",
              "                        [-8.7438e-02, -6.8739e-02, -3.8286e-02],\n",
              "                        [-6.7939e-02, -6.0600e-02, -6.7649e-02]],\n",
              "              \n",
              "                       [[-3.7592e-02, -3.6278e-02, -3.9049e-02],\n",
              "                        [-3.0398e-02,  1.2875e-02, -4.2330e-02],\n",
              "                        [-4.2455e-03, -1.9070e-02, -1.3091e-02]],\n",
              "              \n",
              "                       [[ 7.5882e-03, -1.8485e-02, -5.5387e-04],\n",
              "                        [-1.1490e-02, -1.8079e-02, -4.5740e-03],\n",
              "                        [-2.4035e-02, -3.2705e-02, -9.7707e-03]]],\n",
              "              \n",
              "              \n",
              "                      [[[ 2.4785e-02, -3.7233e-02, -2.2400e-02],\n",
              "                        [-4.8687e-03, -5.7268e-02,  1.2701e-02],\n",
              "                        [ 8.4536e-03, -7.3069e-02,  2.0592e-02]],\n",
              "              \n",
              "                       [[ 3.6924e-04,  2.2252e-02, -6.0809e-04],\n",
              "                        [-2.7189e-02, -3.1600e-03,  7.9979e-03],\n",
              "                        [ 7.3150e-02,  1.4017e-02,  2.1052e-02]],\n",
              "              \n",
              "                       [[ 4.9804e-02, -2.8000e-02, -2.3318e-02],\n",
              "                        [-1.1813e-02,  1.0411e-02,  1.7678e-02],\n",
              "                        [ 1.4334e-02,  1.3555e-02,  1.0854e-03]],\n",
              "              \n",
              "                       ...,\n",
              "              \n",
              "                       [[-2.4033e-02, -3.7285e-02, -4.6763e-02],\n",
              "                        [-4.8370e-02, -3.6218e-02, -4.1161e-02],\n",
              "                        [-6.8394e-02, -5.8770e-02, -6.5887e-02]],\n",
              "              \n",
              "                       [[ 2.2765e-03,  5.3992e-02, -2.3893e-02],\n",
              "                        [-3.7870e-03, -2.4695e-02, -2.3151e-02],\n",
              "                        [-3.5533e-02,  9.8039e-04,  1.4061e-02]],\n",
              "              \n",
              "                       [[-4.6226e-04, -3.6033e-02, -7.4772e-03],\n",
              "                        [-8.4559e-03, -1.4954e-02, -7.0052e-03],\n",
              "                        [-1.7167e-02, -3.4651e-03, -3.0220e-02]]],\n",
              "              \n",
              "              \n",
              "                      ...,\n",
              "              \n",
              "              \n",
              "                      [[[ 5.5173e-03,  2.6991e-02,  6.3972e-03],\n",
              "                        [-1.3235e-02, -6.6940e-02, -8.9899e-03],\n",
              "                        [ 6.0572e-02, -2.3764e-02, -3.0337e-02]],\n",
              "              \n",
              "                       [[ 8.1890e-03, -2.7199e-02, -1.8824e-02],\n",
              "                        [ 1.2913e-02, -1.9847e-02, -2.5698e-02],\n",
              "                        [-2.5446e-02,  2.7860e-02,  4.5614e-02]],\n",
              "              \n",
              "                       [[-4.7785e-03, -2.6513e-02,  2.1984e-03],\n",
              "                        [-1.6446e-02, -1.4908e-02, -6.1479e-03],\n",
              "                        [-1.3271e-02, -2.9120e-02, -2.7862e-02]],\n",
              "              \n",
              "                       ...,\n",
              "              \n",
              "                       [[-3.7048e-02, -4.2516e-02, -2.6636e-02],\n",
              "                        [-3.4985e-02, -6.6460e-02, -3.7490e-02],\n",
              "                        [ 9.6170e-03, -3.3957e-02, -3.9833e-02]],\n",
              "              \n",
              "                       [[ 7.8405e-02,  1.1169e-01, -2.3606e-03],\n",
              "                        [ 5.1840e-02,  8.8933e-02,  2.3189e-02],\n",
              "                        [-1.6163e-02,  3.2576e-02, -9.1145e-03]],\n",
              "              \n",
              "                       [[ 7.4454e-03, -9.5082e-04, -6.7286e-03],\n",
              "                        [ 3.1401e-02,  4.3934e-02, -1.2438e-02],\n",
              "                        [ 1.8933e-02,  5.1885e-02,  5.0981e-02]]],\n",
              "              \n",
              "              \n",
              "                      [[[-1.7511e-02, -3.8893e-02, -7.5236e-03],\n",
              "                        [-2.7224e-02, -3.6020e-02,  6.8034e-03],\n",
              "                        [ 1.4449e-02, -4.2977e-02, -3.3068e-02]],\n",
              "              \n",
              "                       [[-2.9884e-02, -4.1417e-02,  1.3483e-02],\n",
              "                        [-4.9745e-02, -4.2462e-02, -1.8471e-02],\n",
              "                        [-3.9902e-02, -4.8592e-02, -1.9288e-02]],\n",
              "              \n",
              "                       [[-4.3106e-02, -6.4640e-03, -2.8712e-03],\n",
              "                        [-1.3117e-02, -1.3775e-02, -4.2609e-02],\n",
              "                        [-1.1329e-03, -3.0663e-02, -1.1398e-02]],\n",
              "              \n",
              "                       ...,\n",
              "              \n",
              "                       [[-7.3804e-03, -3.0092e-02,  3.4476e-02],\n",
              "                        [-1.7875e-02, -3.7506e-02,  4.0867e-03],\n",
              "                        [-5.8318e-02, -2.1768e-02,  1.8999e-02]],\n",
              "              \n",
              "                       [[-2.5679e-02, -4.8046e-02, -3.9815e-02],\n",
              "                        [-2.0808e-02, -3.5647e-02, -9.4913e-05],\n",
              "                        [-4.0252e-02, -2.1560e-02,  9.2902e-03]],\n",
              "              \n",
              "                       [[-4.7647e-02,  8.3146e-03, -2.8513e-03],\n",
              "                        [-6.8907e-03, -3.9405e-02, -6.2710e-04],\n",
              "                        [-8.9327e-03, -2.1292e-02, -1.4919e-02]]],\n",
              "              \n",
              "              \n",
              "                      [[[-1.9623e-02, -4.6431e-02, -7.1405e-03],\n",
              "                        [-1.9538e-02,  1.4492e-03, -4.0881e-02],\n",
              "                        [-3.2789e-02,  2.4435e-02, -3.7112e-02]],\n",
              "              \n",
              "                       [[-4.6225e-02,  2.0355e-02, -3.3439e-02],\n",
              "                        [-4.1302e-02,  5.7983e-02,  1.4300e-02],\n",
              "                        [ 4.6657e-03, -2.1771e-02,  6.6265e-02]],\n",
              "              \n",
              "                       [[-5.8243e-02,  3.3603e-03, -6.3602e-02],\n",
              "                        [-4.3939e-02, -3.6514e-02, -4.8831e-02],\n",
              "                        [-2.0580e-02, -1.7533e-02, -3.8150e-02]],\n",
              "              \n",
              "                       ...,\n",
              "              \n",
              "                       [[ 2.0261e-02, -4.6555e-03, -8.9205e-03],\n",
              "                        [ 5.5070e-03, -2.0900e-02, -7.6728e-03],\n",
              "                        [-5.7507e-02, -4.9564e-02, -3.2848e-02]],\n",
              "              \n",
              "                       [[-2.2052e-02,  9.0165e-02, -4.2770e-03],\n",
              "                        [-4.7284e-02,  2.8560e-02,  2.0501e-02],\n",
              "                        [-3.0307e-02, -4.5925e-02, -6.4805e-02]],\n",
              "              \n",
              "                       [[-3.8064e-03, -1.2423e-02, -2.4090e-03],\n",
              "                        [-9.4049e-03, -3.4032e-02, -6.2392e-03],\n",
              "                        [ 6.6327e-03,  1.3964e-02, -7.7708e-03]]]], device='cuda:0')),\n",
              "             ('features.10.bias',\n",
              "              tensor([ 2.8010e-02,  4.3913e-01,  2.3826e-01,  4.9553e-01,  1.9520e-01,\n",
              "                       4.8055e-02,  9.1781e-02, -8.0150e-02,  1.2212e-01,  1.9401e-01,\n",
              "                       3.6578e-02,  4.8686e-01,  2.3206e-01, -9.6477e-02, -5.7691e-02,\n",
              "                      -4.8605e-01,  7.0405e-01,  2.4878e-02, -3.8861e-01,  2.3110e-01,\n",
              "                       1.1577e-01,  3.3277e-01,  1.2048e+00,  2.0329e-01,  4.7690e-01,\n",
              "                       3.1031e-01,  3.9483e-02,  2.3572e-02,  1.3625e-01,  2.9341e-01,\n",
              "                       5.6954e-02,  2.9241e-01, -9.9093e-04,  3.3420e-01,  1.6031e-01,\n",
              "                       2.0217e-01,  6.2949e-02,  1.2987e-01,  2.9623e-01,  1.5368e-01,\n",
              "                      -5.0313e-02,  5.0704e-01,  1.1809e-01,  4.2561e-01,  3.5001e-01,\n",
              "                       4.1653e-01, -1.9584e-02,  1.1434e+00,  1.3357e-01,  3.0528e-01,\n",
              "                       2.3255e-01,  3.6421e-01,  3.8899e-01,  1.7869e-01,  6.6284e-01,\n",
              "                      -3.4184e-02,  2.6418e-01,  2.1719e-01,  3.4710e-01,  2.1610e-02,\n",
              "                       1.7446e-01,  2.2568e-01, -1.0558e-01,  4.0086e-02,  1.1124e-01,\n",
              "                       2.3172e-01, -2.7119e-02,  2.1456e-01,  2.7583e-01,  7.1207e-02,\n",
              "                      -7.2658e-02, -8.3447e-02, -2.8102e-02,  4.1076e-01,  4.1437e-01,\n",
              "                       3.0941e-01, -1.5203e-01,  1.0306e-02,  1.1686e-01,  2.1850e-02,\n",
              "                      -6.2837e-02,  6.3794e-01, -1.2021e-01,  6.3795e-01,  7.4938e-02,\n",
              "                      -3.7606e-02,  4.8717e-01,  6.2304e-01, -2.3903e-02,  1.4620e-01,\n",
              "                       1.0722e-03,  2.2405e-01,  9.8896e-03,  5.6775e-02,  1.5937e-02,\n",
              "                       4.6988e-02,  1.9749e-01,  1.9240e-01, -2.1314e-02,  4.5685e-01,\n",
              "                       3.7884e-01,  3.3203e-01, -1.1303e-01,  5.1549e-01,  2.8833e-02,\n",
              "                       6.4685e-01,  8.5258e-01,  4.8470e-01,  1.3813e-01,  3.0519e-03,\n",
              "                      -4.2660e-02,  2.9644e-02,  1.2808e-01,  5.7230e-01,  1.2631e-01,\n",
              "                       2.0195e-01,  3.1639e-02, -1.4363e-01,  1.5120e-01,  7.3288e-02,\n",
              "                       2.0985e-01, -7.9289e-02,  5.8285e-01,  1.1606e-01,  8.8804e-04,\n",
              "                       2.5726e+00,  5.8134e-01, -1.8502e-01,  1.0314e-01, -5.9459e-02,\n",
              "                       2.7194e-02,  2.4355e-01, -9.1081e-02,  2.1039e-02,  5.0606e-01,\n",
              "                       4.2585e-01,  4.1040e-02, -5.1043e-02,  1.3301e-01, -2.2896e-01,\n",
              "                       2.6977e-01,  4.2351e-02,  8.7522e-03,  6.1047e-01,  2.1890e-01,\n",
              "                       8.2322e-01,  4.2213e-01,  4.0497e-02,  1.6614e-01,  9.8855e-01,\n",
              "                       1.3530e-01,  3.7906e-01,  6.8848e-01, -5.5639e-02,  6.1953e-01,\n",
              "                       1.0747e-01,  3.8306e-01,  1.2447e-01,  7.8087e-01,  1.2424e-01,\n",
              "                      -2.1904e-02,  5.1042e-01,  6.7477e-02,  1.6706e-01,  7.1803e-01,\n",
              "                       3.7801e-01,  1.2425e-01, -1.4752e-02,  4.5965e-01,  1.7664e-01,\n",
              "                       1.2716e-01,  2.1420e-01,  7.4306e-01, -3.0632e-03,  1.5606e-01,\n",
              "                       9.6741e-02, -5.7853e-03,  2.6395e-01,  7.6570e-02,  2.4926e-01,\n",
              "                       2.0389e-02,  2.0110e-01,  3.2949e-01,  1.1613e-02,  9.3648e-02,\n",
              "                       2.8808e-01,  1.3220e-01, -9.6959e-02,  1.6762e-01, -1.1502e-01,\n",
              "                      -1.3673e-01,  1.4056e-01,  1.3235e-01,  5.8046e-03,  1.0832e-01,\n",
              "                      -1.6962e-01,  4.5657e-02,  1.6873e-01,  4.2939e-01,  1.1477e-01,\n",
              "                       3.6257e-01,  9.0778e-01,  2.7418e-01,  1.0399e-01, -5.8606e-02,\n",
              "                       4.1169e-02,  1.2614e-01,  2.0997e-01, -3.6757e-02,  5.5514e-01,\n",
              "                       5.5902e-01,  4.4223e-01,  5.1170e-01,  3.7049e-01,  5.7189e-01,\n",
              "                       5.3392e-01,  2.0868e-01,  3.5875e-01,  6.2493e-01,  7.4481e-04,\n",
              "                       2.8749e-02, -2.0579e-01,  6.2536e-02,  6.8552e-01,  2.2888e-01,\n",
              "                       1.6207e-01,  6.3418e-01, -1.3523e-02,  6.0133e-01,  3.0437e-01,\n",
              "                       6.4726e-01,  3.3404e-01,  1.1298e-01,  4.2296e-01,  5.3559e-01,\n",
              "                       1.7994e-01,  2.3267e-01,  3.8329e-02,  9.7984e-02,  1.7021e-01,\n",
              "                       8.7357e-02,  4.2982e-01,  2.8856e-02, -8.2345e-02,  1.4024e-01,\n",
              "                      -1.0285e-01,  4.3195e-01, -1.3158e-02,  1.8086e-01,  5.5252e-01,\n",
              "                       5.4627e-01,  3.8442e-01,  3.2320e-01,  5.5046e-01,  6.3894e-03,\n",
              "                      -8.5199e-02], device='cuda:0')),\n",
              "             ('classifier.1.weight',\n",
              "              tensor([[ 0.0027,  0.0082,  0.0181,  ...,  0.0006, -0.0053, -0.0131],\n",
              "                      [-0.0020,  0.0027, -0.0017,  ...,  0.0078,  0.0031, -0.0129],\n",
              "                      [-0.0113, -0.0135, -0.0208,  ..., -0.0002, -0.0010,  0.0159],\n",
              "                      ...,\n",
              "                      [-0.0091,  0.0006, -0.0082,  ..., -0.0064,  0.0085,  0.0074],\n",
              "                      [-0.0115, -0.0045, -0.0081,  ..., -0.0043, -0.0085, -0.0104],\n",
              "                      [ 0.0056, -0.0086, -0.0026,  ...,  0.0029,  0.0031, -0.0056]],\n",
              "                     device='cuda:0')),\n",
              "             ('classifier.1.bias',\n",
              "              tensor([ 0.0321,  0.0647, -0.0615,  ..., -0.0274,  0.0199,  0.0095],\n",
              "                     device='cuda:0')),\n",
              "             ('classifier.4.weight',\n",
              "              tensor([[-0.0115, -0.0052,  0.0033,  ...,  0.0028, -0.0046, -0.0129],\n",
              "                      [-0.0286,  0.0200, -0.0097,  ..., -0.0055, -0.0022, -0.0204],\n",
              "                      [-0.0116, -0.0206,  0.0120,  ..., -0.0004,  0.0032,  0.0048],\n",
              "                      ...,\n",
              "                      [-0.0107, -0.0206,  0.0068,  ...,  0.0262, -0.0064,  0.0013],\n",
              "                      [ 0.0065,  0.0100,  0.0204,  ...,  0.0060, -0.0023, -0.0010],\n",
              "                      [ 0.0100, -0.0003, -0.0054,  ..., -0.0113, -0.0021,  0.0150]],\n",
              "                     device='cuda:0')),\n",
              "             ('classifier.4.bias',\n",
              "              tensor([0.0451, 0.0990, 0.0029,  ..., 0.0278, 0.0469, 0.0787], device='cuda:0')),\n",
              "             ('classifier.6.weight',\n",
              "              tensor([[ 0.0048, -0.0099,  0.0171,  ...,  0.0050, -0.0065,  0.0044],\n",
              "                      [ 0.0071,  0.0226,  0.0096,  ..., -0.0068, -0.0090, -0.0174],\n",
              "                      [-0.0061,  0.0261,  0.0038,  ...,  0.0151, -0.0113, -0.0135],\n",
              "                      ...,\n",
              "                      [ 0.0071,  0.0765, -0.0028,  ...,  0.0034,  0.0180, -0.0128],\n",
              "                      [ 0.0067,  0.0115,  0.0016,  ..., -0.0162,  0.0123, -0.0008],\n",
              "                      [-0.0098, -0.0018, -0.0127,  ..., -0.0250,  0.0011, -0.0115]],\n",
              "                     device='cuda:0')),\n",
              "             ('classifier.6.bias',\n",
              "              tensor([-0.0391, -0.0219, -0.0275,  0.0372,  0.0291, -0.0018,  0.0171, -0.0008,\n",
              "                      -0.0231, -0.0283, -0.0478, -0.0461,  0.0214,  0.0279,  0.0384, -0.0396,\n",
              "                       0.0478, -0.0210,  0.0192,  0.0878,  0.0078, -0.0189, -0.0799,  0.0351,\n",
              "                      -0.0346, -0.0420, -0.0040, -0.0130,  0.0539,  0.0545, -0.0277,  0.0340,\n",
              "                      -0.0227,  0.0350, -0.0291,  0.0439,  0.0076, -0.0515, -0.0347,  0.0067,\n",
              "                       0.0120, -0.0237, -0.0239,  0.0006, -0.0508,  0.0194,  0.0430,  0.0358,\n",
              "                      -0.0058, -0.0632,  0.0834,  0.0758,  0.0394,  0.0328,  0.0087, -0.0148,\n",
              "                      -0.0542, -0.0691, -0.0042, -0.0479, -0.0626, -0.0280, -0.0238,  0.0703,\n",
              "                       0.0471,  0.0892, -0.0521, -0.0004,  0.0088,  0.0287, -0.0508,  0.0474,\n",
              "                      -0.0293,  0.0023,  0.0763,  0.0297, -0.0156, -0.0013,  0.0032,  0.0169,\n",
              "                      -0.0297,  0.0428,  0.0235,  0.0431, -0.0542,  0.0010, -0.0249,  0.0116,\n",
              "                      -0.0063,  0.0064,  0.0334,  0.0311,  0.0275, -0.0034, -0.0093,  0.0231,\n",
              "                      -0.0269,  0.0136, -0.0735, -0.0556, -0.1001, -0.0376, -0.0651,  0.0133,\n",
              "                       0.0214, -0.0302,  0.0306,  0.0436, -0.0218, -0.0049, -0.0572, -0.0106,\n",
              "                       0.0330, -0.0386,  0.0185,  0.0117, -0.0093,  0.0258, -0.0280,  0.0898,\n",
              "                       0.0540,  0.0258, -0.0424, -0.0667, -0.0796, -0.0168,  0.0345,  0.0291,\n",
              "                      -0.0205, -0.0440, -0.0245,  0.0351,  0.0599,  0.0450, -0.0200, -0.0256,\n",
              "                      -0.0390,  0.0659, -0.0050,  0.0272, -0.0057, -0.0297,  0.0013,  0.0080,\n",
              "                      -0.0140,  0.0021,  0.0272,  0.0245, -0.0381, -0.1028, -0.0250, -0.0312,\n",
              "                       0.0197, -0.0062,  0.0102, -0.0253,  0.0044,  0.0034, -0.0009, -0.0012,\n",
              "                       0.0232,  0.0488,  0.0351,  0.0441,  0.0348,  0.0037,  0.0435, -0.0123,\n",
              "                       0.0038,  0.0212, -0.0067, -0.0058,  0.0010,  0.0108,  0.0581, -0.0553,\n",
              "                       0.0348, -0.0015, -0.0296,  0.0052,  0.0091,  0.0257, -0.0046,  0.0350,\n",
              "                      -0.0020,  0.0141,  0.0194, -0.0089,  0.0002, -0.0323, -0.0143,  0.0187,\n",
              "                       0.0204, -0.0326,  0.0332, -0.0389], device='cuda:0'))])"
            ]
          },
          "metadata": {
            "tags": []
          },
          "execution_count": 28
        }
      ]
    },
    {
      "cell_type": "code",
      "metadata": {
        "id": "SlX9VYgSOVLs"
      },
      "source": [
        "#https://pytorch.org/tutorials/beginner/finetuning_torchvision_models_tutorial.html\n",
        "\n",
        "#https://pytorch.org/tutorials/beginner/transfer_learning_tutorial.html"
      ],
      "execution_count": null,
      "outputs": []
    },
    {
      "cell_type": "code",
      "metadata": {
        "id": "GwNri21gVHtd"
      },
      "source": [
        "# import torch.nn as nn\n",
        "# from torchvision import models\n",
        "\n",
        "# class BuildAlexNet(nn.Module):\n",
        "#     def __init__(self, model_type, n_output):\n",
        "#         super(BuildAlexNet, self).__init__()\n",
        "#         self.model_type = model_type\n",
        "#         if model_type == 'pre':\n",
        "#             model = models.alexnet(pretrained=True)\n",
        "#             self.features = model.features\n",
        "#             fc1 = nn.Linear(9216, 4096)\n",
        "#             fc1.bias = model.classifier[1].bias\n",
        "#             fc1.weight = model.classifier[1].weight\n",
        "            \n",
        "#             fc2 = nn.Linear(4096, 4096)\n",
        "#             fc2.bias = model.classifier[4].bias\n",
        "#             fc2.weight = model.classifier[4].weight\n",
        "            \n",
        "#             self.classifier = nn.Sequential(\n",
        "#                     nn.Dropout(),\n",
        "#                     fc1,\n",
        "#                     nn.ReLU(inplace=True),\n",
        "#                     nn.Dropout(),\n",
        "#                     fc2,\n",
        "#                     nn.ReLU(inplace=True),\n",
        "#                     nn.Linear(4096, n_output))  \n",
        "#             #或者直接修改为\n",
        "# #            model.classifier[6]==nn.Linear(4096,n_output)\n",
        "# #            self.classifier = model.classifier\n",
        "#         if model_type == 'new':\n",
        "#             self.features = nn.Sequential(\n",
        "#                     nn.Conv2d(3, 64, 11, 4, 2),\n",
        "#                     nn.ReLU(inplace = True),\n",
        "#                     nn.MaxPool2d(3, 2, 0),\n",
        "#                     nn.Conv2d(64, 192, 5, 1, 2),\n",
        "#                     nn.ReLU(inplace=True),\n",
        "#                     nn.MaxPool2d(3, 2, 0),\n",
        "#                     nn.Conv2d(192, 384, 3, 1, 1),\n",
        "#                     nn.ReLU(inplace = True),\n",
        "#                     nn.Conv2d(384, 256, 3, 1, 1),\n",
        "#                     nn.ReLU(inplace=True),\n",
        "#                     nn.MaxPool2d(3, 2, 0))\n",
        "#             self.classifier = nn.Sequential(\n",
        "#                     nn.Dropout(),\n",
        "#                     nn.Linear(9216, 4096),\n",
        "#                     nn.ReLU(inplace=True),\n",
        "#                     nn.Dropout(),\n",
        "#                     nn.Linear(4096, 4096),\n",
        "#                     nn.ReLU(inplace=True),\n",
        "#                     nn.Linear(4096, n_output))\n",
        "            \n",
        "#     def forward(self, x):\n",
        "#         x = self.features(x)\n",
        "#         x = x.view(x.size(0), -1)\n",
        "#         out  = self.classifier(x)\n",
        "#         return out"
      ],
      "execution_count": null,
      "outputs": []
    },
    {
      "cell_type": "code",
      "metadata": {
        "id": "g_2L1QPEVKyZ"
      },
      "source": [
        "# import numpy as np\n",
        "# from torch.autograd import Variable\n",
        "# import torch\n",
        "\n",
        "# if __name__ == '__main__':\n",
        "#     model_type = 'pre'\n",
        "#     n_output = 10\n",
        "#     alexnet = BuildAlexNet(model_type, n_output)\n",
        "#     print(alexnet)\n",
        "    \n",
        "#     x = np.random.rand(1,3,224,224)\n",
        "#     x = x.astype(np.float32)\n",
        "#     x_ts = torch.from_numpy(x)\n",
        "#     x_in = Variable(x_ts)\n",
        "#     y = alexnet(x_in)"
      ],
      "execution_count": null,
      "outputs": []
    },
    {
      "cell_type": "code",
      "metadata": {
        "id": "67XjOiIgXcPQ"
      },
      "source": [
        ""
      ],
      "execution_count": null,
      "outputs": []
    }
  ]
}